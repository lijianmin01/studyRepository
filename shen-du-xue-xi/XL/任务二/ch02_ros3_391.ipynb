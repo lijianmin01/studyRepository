{
 "metadata": {
  "language_info": {
   "codemirror_mode": {
    "name": "ipython",
    "version": 3
   },
   "file_extension": ".py",
   "mimetype": "text/x-python",
   "name": "python",
   "nbconvert_exporter": "python",
   "pygments_lexer": "ipython3",
   "version": "3.7.3-final"
  },
  "orig_nbformat": 2,
  "kernelspec": {
   "name": "python3",
   "display_name": "Python 3",
   "language": "python"
  }
 },
 "nbformat": 4,
 "nbformat_minor": 2,
 "cells": [
  {
   "cell_type": "code",
   "execution_count": 1,
   "metadata": {},
   "outputs": [],
   "source": [
    "import numpy as np\n",
    "from matplotlib import pyplot as plt\n",
    "\n"
   ]
  },
  {
   "cell_type": "code",
   "execution_count": 2,
   "metadata": {},
   "outputs": [],
   "source": [
    "D = np.random.random((10,2))"
   ]
  },
  {
   "cell_type": "code",
   "execution_count": 3,
   "metadata": {},
   "outputs": [
    {
     "output_type": "execute_result",
     "data": {
      "text/plain": [
       "array([[0.97782444, 0.26983369],\n",
       "       [0.21315164, 0.96730787],\n",
       "       [0.48256248, 0.71498176],\n",
       "       [0.66577591, 0.56649361],\n",
       "       [0.63085146, 0.19730574],\n",
       "       [0.3387597 , 0.98180709],\n",
       "       [0.24602049, 0.59903392],\n",
       "       [0.21432595, 0.45448423],\n",
       "       [0.20171299, 0.04340704],\n",
       "       [0.53608366, 0.19040308]])"
      ]
     },
     "metadata": {},
     "execution_count": 3
    }
   ],
   "source": [
    "D"
   ]
  },
  {
   "cell_type": "code",
   "execution_count": 4,
   "metadata": {},
   "outputs": [],
   "source": [
    "D1 = np.array([[0.64754855, 0.59507059],\n",
    "       [0.3120167 , 0.03192053],\n",
    "       [0.37969568, 0.86204827],\n",
    "       [0.02818424, 0.98058601],\n",
    "       [0.396828  , 0.31667695],\n",
    "       [0.61613117, 0.34472543],\n",
    "       [0.74338109, 0.51823655],\n",
    "       [0.73737023, 0.62347628],\n",
    "       [0.46752571, 0.39628274],\n",
    "       [0.63097959, 0.38178618]])"
   ]
  },
  {
   "cell_type": "code",
   "execution_count": 5,
   "metadata": {},
   "outputs": [
    {
     "output_type": "execute_result",
     "data": {
      "text/plain": [
       "array([[0.64754855, 0.59507059],\n",
       "       [0.3120167 , 0.03192053],\n",
       "       [0.37969568, 0.86204827],\n",
       "       [0.02818424, 0.98058601],\n",
       "       [0.396828  , 0.31667695],\n",
       "       [0.61613117, 0.34472543],\n",
       "       [0.74338109, 0.51823655],\n",
       "       [0.73737023, 0.62347628],\n",
       "       [0.46752571, 0.39628274],\n",
       "       [0.63097959, 0.38178618]])"
      ]
     },
     "metadata": {},
     "execution_count": 5
    }
   ],
   "source": [
    "D1"
   ]
  },
  {
   "cell_type": "code",
   "execution_count": 7,
   "metadata": {},
   "outputs": [
    {
     "output_type": "execute_result",
     "data": {
      "text/plain": [
       "(array([ True, False,  True,  True, False,  True, False, False, False,\n",
       "        False]),\n",
       " array([0.97782444, 0.21315164, 0.48256248, 0.66577591, 0.63085146,\n",
       "        0.3387597 , 0.24602049, 0.21432595, 0.20171299, 0.53608366]),\n",
       " array([0.26983369, 0.96730787, 0.71498176, 0.56649361, 0.19730574,\n",
       "        0.98180709, 0.59903392, 0.45448423, 0.04340704, 0.19040308]))"
      ]
     },
     "metadata": {},
     "execution_count": 7
    }
   ],
   "source": [
    "X1 = D[:,0]\n",
    "X2 = D[:,1]\n",
    "X1,X2\n",
    "Y = np.array([(2*x1+x2)>1.5 for (x1,x2) in zip(X1,X2)])\n",
    "Y , X1 , X2"
   ]
  },
  {
   "cell_type": "code",
   "execution_count": 8,
   "metadata": {},
   "outputs": [
    {
     "output_type": "stream",
     "name": "stdout",
     "text": [
      "[0.97782444 0.48256248 0.66577591 0.3387597 ] [0.26983369 0.71498176 0.56649361 0.98180709]\n[ True False  True  True False  True False False False False] [False  True False False  True False  True  True  True  True]\n[0.21315164 0.63085146 0.24602049 0.21432595 0.20171299 0.53608366] [0.96730787 0.19730574 0.59903392 0.45448423 0.04340704 0.19040308]\n"
     ]
    }
   ],
   "source": [
    "print(X1[Y],X2[Y])\n",
    "Y_0 = ((Y-1)*(-1)).astype(bool)\n",
    "print(Y,Y_0)\n",
    "print(X1[Y_0],X2[Y_0])\n"
   ]
  },
  {
   "cell_type": "code",
   "execution_count": 9,
   "metadata": {},
   "outputs": [
    {
     "output_type": "display_data",
     "data": {
      "text/plain": "<Figure size 432x288 with 1 Axes>",
      "image/svg+xml": "<?xml version=\"1.0\" encoding=\"utf-8\" standalone=\"no\"?>\n<!DOCTYPE svg PUBLIC \"-//W3C//DTD SVG 1.1//EN\"\n  \"http://www.w3.org/Graphics/SVG/1.1/DTD/svg11.dtd\">\n<!-- Created with matplotlib (https://matplotlib.org/) -->\n<svg height=\"246.965pt\" version=\"1.1\" viewBox=\"0 0 381.2 246.965\" width=\"381.2pt\" xmlns=\"http://www.w3.org/2000/svg\" xmlns:xlink=\"http://www.w3.org/1999/xlink\">\n <defs>\n  <style type=\"text/css\">\n*{stroke-linecap:butt;stroke-linejoin:round;}\n  </style>\n </defs>\n <g id=\"figure_1\">\n  <g id=\"patch_1\">\n   <path d=\"M 0 246.965 \nL 381.2 246.965 \nL 381.2 0 \nL 0 0 \nz\n\" style=\"fill:none;\"/>\n  </g>\n  <g id=\"axes_1\">\n   <g id=\"patch_2\">\n    <path d=\"M 39.2 224.64 \nL 374 224.64 \nL 374 7.2 \nL 39.2 7.2 \nz\n\" style=\"fill:#ffffff;\"/>\n   </g>\n   <g id=\"PathCollection_1\">\n    <defs>\n     <path d=\"M 0 3 \nC 0.795609 3 1.55874 2.683901 2.12132 2.12132 \nC 2.683901 1.55874 3 0.795609 3 0 \nC 3 -0.795609 2.683901 -1.55874 2.12132 -2.12132 \nC 1.55874 -2.683901 0.795609 -3 0 -3 \nC -0.795609 -3 -1.55874 -2.683901 -2.12132 -2.12132 \nC -2.683901 -1.55874 -3 -0.795609 -3 0 \nC -3 0.795609 -2.683901 1.55874 -2.12132 2.12132 \nC -1.55874 2.683901 -0.795609 3 0 3 \nz\n\" id=\"m86dd140fb4\" style=\"stroke:#ff0000;\"/>\n    </defs>\n    <g clip-path=\"url(#p360bf90366)\">\n     <use style=\"fill:#ff0000;stroke:#ff0000;\" x=\"352.032385\" xlink:href=\"#m86dd140fb4\" y=\"138.668801\"/>\n     <use style=\"fill:#ff0000;stroke:#ff0000;\" x=\"201.292653\" xlink:href=\"#m86dd140fb4\" y=\"94.671985\"/>\n     <use style=\"fill:#ff0000;stroke:#ff0000;\" x=\"257.05616\" xlink:href=\"#m86dd140fb4\" y=\"109.348014\"/>\n     <use style=\"fill:#ff0000;stroke:#ff0000;\" x=\"157.524315\" xlink:href=\"#m86dd140fb4\" y=\"68.299939\"/>\n    </g>\n   </g>\n   <g id=\"PathCollection_2\">\n    <defs>\n     <path d=\"M 0 3 \nC 0.795609 3 1.55874 2.683901 2.12132 2.12132 \nC 2.683901 1.55874 3 0.795609 3 0 \nC 3 -0.795609 2.683901 -1.55874 2.12132 -2.12132 \nC 1.55874 -2.683901 0.795609 -3 0 -3 \nC -0.795609 -3 -1.55874 -2.683901 -2.12132 -2.12132 \nC -2.683901 -1.55874 -3 -0.795609 -3 0 \nC -3 0.795609 -2.683901 1.55874 -2.12132 2.12132 \nC -1.55874 2.683901 -0.795609 3 0 3 \nz\n\" id=\"mcf3e070c79\" style=\"stroke:#008000;\"/>\n    </defs>\n    <g clip-path=\"url(#p360bf90366)\">\n     <use style=\"fill:#008000;stroke:#008000;\" x=\"119.293789\" xlink:href=\"#mcf3e070c79\" y=\"69.732989\"/>\n     <use style=\"fill:#008000;stroke:#008000;\" x=\"246.426427\" xlink:href=\"#mcf3e070c79\" y=\"145.8372\"/>\n     <use style=\"fill:#008000;stroke:#008000;\" x=\"129.297873\" xlink:href=\"#mcf3e070c79\" y=\"106.131847\"/>\n     <use style=\"fill:#008000;stroke:#008000;\" x=\"119.651207\" xlink:href=\"#mcf3e070c79\" y=\"120.418613\"/>\n     <use style=\"fill:#008000;stroke:#008000;\" x=\"115.812281\" xlink:href=\"#mcf3e070c79\" y=\"161.047988\"/>\n     <use style=\"fill:#008000;stroke:#008000;\" x=\"217.582554\" xlink:href=\"#mcf3e070c79\" y=\"146.519434\"/>\n    </g>\n   </g>\n   <g id=\"matplotlib.axis_1\">\n    <g id=\"xtick_1\">\n     <g id=\"line2d_1\">\n      <defs>\n       <path d=\"M 0 0 \nL 0 3.5 \n\" id=\"m93a84abd94\" style=\"stroke:#000000;stroke-width:0.8;\"/>\n      </defs>\n      <g>\n       <use style=\"stroke:#000000;stroke-width:0.8;\" x=\"54.418182\" xlink:href=\"#m93a84abd94\" y=\"224.64\"/>\n      </g>\n     </g>\n     <g id=\"text_1\">\n      <!-- 0.0 -->\n      <defs>\n       <path d=\"M 46.484375 35.15625 \nQ 46.484375 21.09375 41.40625 10.9375 \nQ 36.328125 0.78125 25 0.78125 \nQ 13.671875 0.78125 8.390625 10.9375 \nQ 3.125 21.09375 3.125 35.15625 \nQ 3.125 49.21875 8.390625 59.171875 \nQ 13.671875 69.140625 25 69.140625 \nQ 36.328125 69.140625 41.40625 59.171875 \nQ 46.484375 49.21875 46.484375 35.15625 \nz\nM 37.109375 35.15625 \nQ 37.109375 47.65625 34.171875 54.6875 \nQ 31.25 61.71875 25 61.71875 \nQ 18.75 61.71875 15.625 54.6875 \nQ 12.5 47.65625 12.5 35.15625 \nQ 12.5 22.65625 15.625 15.421875 \nQ 18.75 8.203125 25 8.203125 \nQ 31.25 8.203125 34.171875 15.421875 \nQ 37.109375 22.65625 37.109375 35.15625 \nz\n\" id=\"SimHei-48\"/>\n       <path d=\"M 17.1875 1.5625 \nL 8.203125 1.5625 \nL 8.203125 10.15625 \nL 17.1875 10.15625 \nz\n\" id=\"SimHei-46\"/>\n      </defs>\n      <g transform=\"translate(46.918182 238.475937)scale(0.1 -0.1)\">\n       <use xlink:href=\"#SimHei-48\"/>\n       <use x=\"50\" xlink:href=\"#SimHei-46\"/>\n       <use x=\"100\" xlink:href=\"#SimHei-48\"/>\n      </g>\n     </g>\n    </g>\n    <g id=\"xtick_2\">\n     <g id=\"line2d_2\">\n      <g>\n       <use style=\"stroke:#000000;stroke-width:0.8;\" x=\"115.290909\" xlink:href=\"#m93a84abd94\" y=\"224.64\"/>\n      </g>\n     </g>\n     <g id=\"text_2\">\n      <!-- 0.2 -->\n      <defs>\n       <path d=\"M 44.53125 1.5625 \nL 4.6875 1.5625 \nL 4.6875 7.8125 \nQ 7.03125 14.0625 11.125 19.328125 \nQ 15.234375 24.609375 23.046875 31.25 \nQ 28.90625 36.328125 31.4375 40.625 \nQ 33.984375 44.921875 33.984375 50 \nQ 33.984375 55.078125 31.828125 58.390625 \nQ 29.6875 61.71875 25 61.71875 \nQ 21.09375 61.71875 18.15625 58.203125 \nQ 15.234375 54.6875 15.234375 45.703125 \nL 6.25 45.703125 \nQ 6.640625 57.03125 11.515625 63.078125 \nQ 16.40625 69.140625 25.390625 69.140625 \nQ 33.984375 69.140625 38.671875 63.859375 \nQ 43.359375 58.59375 43.359375 49.609375 \nQ 43.359375 42.1875 39.0625 36.71875 \nQ 34.765625 31.25 28.515625 25.78125 \nQ 21.484375 19.53125 18.75 16.40625 \nQ 16.015625 13.28125 13.671875 8.984375 \nL 44.53125 8.984375 \nz\n\" id=\"SimHei-50\"/>\n      </defs>\n      <g transform=\"translate(107.790909 238.475937)scale(0.1 -0.1)\">\n       <use xlink:href=\"#SimHei-48\"/>\n       <use x=\"50\" xlink:href=\"#SimHei-46\"/>\n       <use x=\"100\" xlink:href=\"#SimHei-50\"/>\n      </g>\n     </g>\n    </g>\n    <g id=\"xtick_3\">\n     <g id=\"line2d_3\">\n      <g>\n       <use style=\"stroke:#000000;stroke-width:0.8;\" x=\"176.163636\" xlink:href=\"#m93a84abd94\" y=\"224.64\"/>\n      </g>\n     </g>\n     <g id=\"text_3\">\n      <!-- 0.4 -->\n      <defs>\n       <path d=\"M 46.484375 18.75 \nL 38.28125 18.75 \nL 38.28125 1.5625 \nL 29.296875 1.5625 \nL 29.296875 18.75 \nL 3.125 18.75 \nL 3.125 26.171875 \nL 29.296875 69.140625 \nL 38.28125 69.140625 \nL 38.28125 26.171875 \nL 46.484375 26.171875 \nz\nM 29.296875 26.171875 \nL 29.296875 55.078125 \nL 11.71875 26.171875 \nz\n\" id=\"SimHei-52\"/>\n      </defs>\n      <g transform=\"translate(168.663636 238.475937)scale(0.1 -0.1)\">\n       <use xlink:href=\"#SimHei-48\"/>\n       <use x=\"50\" xlink:href=\"#SimHei-46\"/>\n       <use x=\"100\" xlink:href=\"#SimHei-52\"/>\n      </g>\n     </g>\n    </g>\n    <g id=\"xtick_4\">\n     <g id=\"line2d_4\">\n      <g>\n       <use style=\"stroke:#000000;stroke-width:0.8;\" x=\"237.036364\" xlink:href=\"#m93a84abd94\" y=\"224.64\"/>\n      </g>\n     </g>\n     <g id=\"text_4\">\n      <!-- 0.6 -->\n      <defs>\n       <path d=\"M 44.53125 24.21875 \nQ 44.53125 13.28125 39.84375 7.03125 \nQ 35.15625 0.78125 25.78125 0.78125 \nQ 16.40625 0.78125 10.9375 8.59375 \nQ 5.46875 16.40625 5.46875 33.984375 \nQ 5.46875 50 11.125 59.5625 \nQ 16.796875 69.140625 27.34375 69.140625 \nQ 34.765625 69.140625 39.25 63.671875 \nQ 43.75 58.203125 43.75 51.5625 \nL 34.765625 51.5625 \nQ 34.765625 55.46875 32.609375 58.59375 \nQ 30.46875 61.71875 26.953125 61.71875 \nQ 21.09375 61.71875 17.96875 55.65625 \nQ 14.84375 49.609375 14.453125 37.109375 \nQ 17.1875 42.1875 20.3125 44.140625 \nQ 23.4375 46.09375 27.734375 46.09375 \nQ 35.15625 46.09375 39.84375 40.234375 \nQ 44.53125 34.375 44.53125 24.21875 \nz\nM 35.15625 24.21875 \nQ 35.15625 31.25 32.8125 35.15625 \nQ 30.46875 39.0625 26.171875 39.0625 \nQ 21.09375 39.0625 18.15625 35.15625 \nQ 15.234375 31.25 15.234375 25.78125 \nQ 15.234375 17.1875 18.15625 12.5 \nQ 21.09375 7.8125 26.171875 7.8125 \nQ 29.6875 7.8125 32.421875 11.328125 \nQ 35.15625 14.84375 35.15625 24.21875 \nz\n\" id=\"SimHei-54\"/>\n      </defs>\n      <g transform=\"translate(229.536364 238.475937)scale(0.1 -0.1)\">\n       <use xlink:href=\"#SimHei-48\"/>\n       <use x=\"50\" xlink:href=\"#SimHei-46\"/>\n       <use x=\"100\" xlink:href=\"#SimHei-54\"/>\n      </g>\n     </g>\n    </g>\n    <g id=\"xtick_5\">\n     <g id=\"line2d_5\">\n      <g>\n       <use style=\"stroke:#000000;stroke-width:0.8;\" x=\"297.909091\" xlink:href=\"#m93a84abd94\" y=\"224.64\"/>\n      </g>\n     </g>\n     <g id=\"text_5\">\n      <!-- 0.8 -->\n      <defs>\n       <path d=\"M 44.921875 20.703125 \nQ 44.921875 10.9375 39.453125 5.859375 \nQ 33.984375 0.78125 24.609375 0.78125 \nQ 15.234375 0.78125 9.765625 5.859375 \nQ 4.296875 10.9375 4.296875 20.703125 \nQ 4.296875 25.78125 7.421875 29.875 \nQ 10.546875 33.984375 16.015625 35.9375 \nQ 11.328125 37.890625 8.78125 41.40625 \nQ 6.25 44.921875 6.25 50.390625 \nQ 6.25 58.984375 11.71875 64.0625 \nQ 17.1875 69.140625 24.609375 69.140625 \nQ 32.03125 69.140625 37.5 64.0625 \nQ 42.96875 58.984375 42.96875 50.390625 \nQ 42.96875 44.921875 40.421875 41.40625 \nQ 37.890625 37.890625 33.203125 35.9375 \nQ 38.671875 33.984375 41.796875 29.875 \nQ 44.921875 25.78125 44.921875 20.703125 \nz\nM 34.375 50.390625 \nQ 34.375 56.640625 31.640625 59.375 \nQ 28.90625 62.109375 24.609375 62.109375 \nQ 20.3125 62.109375 17.578125 59.375 \nQ 14.84375 56.640625 14.84375 50.390625 \nQ 14.84375 44.140625 17.765625 41.59375 \nQ 20.703125 39.0625 24.609375 39.0625 \nQ 28.515625 39.0625 31.4375 41.59375 \nQ 34.375 44.140625 34.375 50.390625 \nz\nM 35.9375 20.703125 \nQ 35.9375 26.171875 33 29.296875 \nQ 30.078125 32.421875 24.609375 32.421875 \nQ 19.140625 32.421875 16.203125 29.296875 \nQ 13.28125 26.171875 13.28125 20.703125 \nQ 13.28125 14.453125 16.40625 11.125 \nQ 19.53125 7.8125 24.609375 7.8125 \nQ 29.6875 7.8125 32.8125 11.125 \nQ 35.9375 14.453125 35.9375 20.703125 \nz\n\" id=\"SimHei-56\"/>\n      </defs>\n      <g transform=\"translate(290.409091 238.475937)scale(0.1 -0.1)\">\n       <use xlink:href=\"#SimHei-48\"/>\n       <use x=\"50\" xlink:href=\"#SimHei-46\"/>\n       <use x=\"100\" xlink:href=\"#SimHei-56\"/>\n      </g>\n     </g>\n    </g>\n    <g id=\"xtick_6\">\n     <g id=\"line2d_6\">\n      <g>\n       <use style=\"stroke:#000000;stroke-width:0.8;\" x=\"358.781818\" xlink:href=\"#m93a84abd94\" y=\"224.64\"/>\n      </g>\n     </g>\n     <g id=\"text_6\">\n      <!-- 1.0 -->\n      <defs>\n       <path d=\"M 30.46875 1.5625 \nL 21.484375 1.5625 \nL 21.484375 53.515625 \nL 9.765625 53.515625 \nL 9.765625 58.203125 \nQ 16.796875 58.203125 20.703125 60.9375 \nQ 24.609375 63.671875 25.78125 69.140625 \nL 30.46875 69.140625 \nz\n\" id=\"SimHei-49\"/>\n      </defs>\n      <g transform=\"translate(351.281818 238.475937)scale(0.1 -0.1)\">\n       <use xlink:href=\"#SimHei-49\"/>\n       <use x=\"50\" xlink:href=\"#SimHei-46\"/>\n       <use x=\"100\" xlink:href=\"#SimHei-48\"/>\n      </g>\n     </g>\n    </g>\n   </g>\n   <g id=\"matplotlib.axis_2\">\n    <g id=\"ytick_1\">\n     <g id=\"line2d_7\">\n      <defs>\n       <path d=\"M 0 0 \nL -3.5 0 \n\" id=\"m2190fdb3d3\" style=\"stroke:#000000;stroke-width:0.8;\"/>\n      </defs>\n      <g>\n       <use style=\"stroke:#000000;stroke-width:0.8;\" x=\"39.2\" xlink:href=\"#m2190fdb3d3\" y=\"214.756364\"/>\n      </g>\n     </g>\n     <g id=\"text_7\">\n      <!-- -0.50 -->\n      <defs>\n       <path d=\"M 46.875 32.8125 \nL 2.34375 32.8125 \nL 2.34375 39.0625 \nL 46.875 39.0625 \nz\n\" id=\"SimHei-45\"/>\n       <path d=\"M 44.140625 25.78125 \nQ 44.140625 14.0625 38.46875 7.421875 \nQ 32.8125 0.78125 23.4375 0.78125 \nQ 15.234375 0.78125 9.953125 6.25 \nQ 4.6875 11.71875 4.296875 21.09375 \nL 13.28125 21.09375 \nQ 13.28125 15.234375 16.015625 11.71875 \nQ 18.75 8.203125 23.828125 8.203125 \nQ 28.90625 8.203125 31.828125 12.5 \nQ 34.765625 16.796875 34.765625 25.78125 \nQ 34.765625 33.59375 32.21875 37.296875 \nQ 29.6875 41.015625 25.390625 41.015625 \nQ 21.875 41.015625 19.328125 39.453125 \nQ 16.796875 37.890625 14.453125 33.984375 \nL 6.640625 33.984375 \nL 8.984375 68.359375 \nL 42.578125 68.359375 \nL 42.578125 60.9375 \nL 16.40625 60.9375 \nL 14.84375 42.96875 \nQ 17.1875 45.3125 19.921875 46.484375 \nQ 22.65625 47.65625 27.34375 47.65625 \nQ 34.765625 47.65625 39.453125 41.984375 \nQ 44.140625 36.328125 44.140625 25.78125 \nz\n\" id=\"SimHei-53\"/>\n      </defs>\n      <g transform=\"translate(7.2 218.174332)scale(0.1 -0.1)\">\n       <use xlink:href=\"#SimHei-45\"/>\n       <use x=\"50\" xlink:href=\"#SimHei-48\"/>\n       <use x=\"100\" xlink:href=\"#SimHei-46\"/>\n       <use x=\"150\" xlink:href=\"#SimHei-53\"/>\n       <use x=\"200\" xlink:href=\"#SimHei-48\"/>\n      </g>\n     </g>\n    </g>\n    <g id=\"ytick_2\">\n     <g id=\"line2d_8\">\n      <g>\n       <use style=\"stroke:#000000;stroke-width:0.8;\" x=\"39.2\" xlink:href=\"#m2190fdb3d3\" y=\"190.047273\"/>\n      </g>\n     </g>\n     <g id=\"text_8\">\n      <!-- -0.25 -->\n      <g transform=\"translate(7.2 193.465241)scale(0.1 -0.1)\">\n       <use xlink:href=\"#SimHei-45\"/>\n       <use x=\"50\" xlink:href=\"#SimHei-48\"/>\n       <use x=\"100\" xlink:href=\"#SimHei-46\"/>\n       <use x=\"150\" xlink:href=\"#SimHei-50\"/>\n       <use x=\"200\" xlink:href=\"#SimHei-53\"/>\n      </g>\n     </g>\n    </g>\n    <g id=\"ytick_3\">\n     <g id=\"line2d_9\">\n      <g>\n       <use style=\"stroke:#000000;stroke-width:0.8;\" x=\"39.2\" xlink:href=\"#m2190fdb3d3\" y=\"165.338182\"/>\n      </g>\n     </g>\n     <g id=\"text_9\">\n      <!-- 0.00 -->\n      <g transform=\"translate(12.2 168.756151)scale(0.1 -0.1)\">\n       <use xlink:href=\"#SimHei-48\"/>\n       <use x=\"50\" xlink:href=\"#SimHei-46\"/>\n       <use x=\"100\" xlink:href=\"#SimHei-48\"/>\n       <use x=\"150\" xlink:href=\"#SimHei-48\"/>\n      </g>\n     </g>\n    </g>\n    <g id=\"ytick_4\">\n     <g id=\"line2d_10\">\n      <g>\n       <use style=\"stroke:#000000;stroke-width:0.8;\" x=\"39.2\" xlink:href=\"#m2190fdb3d3\" y=\"140.629091\"/>\n      </g>\n     </g>\n     <g id=\"text_10\">\n      <!-- 0.25 -->\n      <g transform=\"translate(12.2 144.04706)scale(0.1 -0.1)\">\n       <use xlink:href=\"#SimHei-48\"/>\n       <use x=\"50\" xlink:href=\"#SimHei-46\"/>\n       <use x=\"100\" xlink:href=\"#SimHei-50\"/>\n       <use x=\"150\" xlink:href=\"#SimHei-53\"/>\n      </g>\n     </g>\n    </g>\n    <g id=\"ytick_5\">\n     <g id=\"line2d_11\">\n      <g>\n       <use style=\"stroke:#000000;stroke-width:0.8;\" x=\"39.2\" xlink:href=\"#m2190fdb3d3\" y=\"115.92\"/>\n      </g>\n     </g>\n     <g id=\"text_11\">\n      <!-- 0.50 -->\n      <g transform=\"translate(12.2 119.337969)scale(0.1 -0.1)\">\n       <use xlink:href=\"#SimHei-48\"/>\n       <use x=\"50\" xlink:href=\"#SimHei-46\"/>\n       <use x=\"100\" xlink:href=\"#SimHei-53\"/>\n       <use x=\"150\" xlink:href=\"#SimHei-48\"/>\n      </g>\n     </g>\n    </g>\n    <g id=\"ytick_6\">\n     <g id=\"line2d_12\">\n      <g>\n       <use style=\"stroke:#000000;stroke-width:0.8;\" x=\"39.2\" xlink:href=\"#m2190fdb3d3\" y=\"91.210909\"/>\n      </g>\n     </g>\n     <g id=\"text_12\">\n      <!-- 0.75 -->\n      <defs>\n       <path d=\"M 43.359375 60.15625 \nL 25 1.5625 \nL 16.015625 1.5625 \nL 34.765625 60.9375 \nL 6.25 60.9375 \nL 6.25 68.359375 \nL 43.359375 68.359375 \nz\n\" id=\"SimHei-55\"/>\n      </defs>\n      <g transform=\"translate(12.2 94.628878)scale(0.1 -0.1)\">\n       <use xlink:href=\"#SimHei-48\"/>\n       <use x=\"50\" xlink:href=\"#SimHei-46\"/>\n       <use x=\"100\" xlink:href=\"#SimHei-55\"/>\n       <use x=\"150\" xlink:href=\"#SimHei-53\"/>\n      </g>\n     </g>\n    </g>\n    <g id=\"ytick_7\">\n     <g id=\"line2d_13\">\n      <g>\n       <use style=\"stroke:#000000;stroke-width:0.8;\" x=\"39.2\" xlink:href=\"#m2190fdb3d3\" y=\"66.501818\"/>\n      </g>\n     </g>\n     <g id=\"text_13\">\n      <!-- 1.00 -->\n      <g transform=\"translate(12.2 69.919787)scale(0.1 -0.1)\">\n       <use xlink:href=\"#SimHei-49\"/>\n       <use x=\"50\" xlink:href=\"#SimHei-46\"/>\n       <use x=\"100\" xlink:href=\"#SimHei-48\"/>\n       <use x=\"150\" xlink:href=\"#SimHei-48\"/>\n      </g>\n     </g>\n    </g>\n    <g id=\"ytick_8\">\n     <g id=\"line2d_14\">\n      <g>\n       <use style=\"stroke:#000000;stroke-width:0.8;\" x=\"39.2\" xlink:href=\"#m2190fdb3d3\" y=\"41.792727\"/>\n      </g>\n     </g>\n     <g id=\"text_14\">\n      <!-- 1.25 -->\n      <g transform=\"translate(12.2 45.210696)scale(0.1 -0.1)\">\n       <use xlink:href=\"#SimHei-49\"/>\n       <use x=\"50\" xlink:href=\"#SimHei-46\"/>\n       <use x=\"100\" xlink:href=\"#SimHei-50\"/>\n       <use x=\"150\" xlink:href=\"#SimHei-53\"/>\n      </g>\n     </g>\n    </g>\n    <g id=\"ytick_9\">\n     <g id=\"line2d_15\">\n      <g>\n       <use style=\"stroke:#000000;stroke-width:0.8;\" x=\"39.2\" xlink:href=\"#m2190fdb3d3\" y=\"17.083636\"/>\n      </g>\n     </g>\n     <g id=\"text_15\">\n      <!-- 1.50 -->\n      <g transform=\"translate(12.2 20.501605)scale(0.1 -0.1)\">\n       <use xlink:href=\"#SimHei-49\"/>\n       <use x=\"50\" xlink:href=\"#SimHei-46\"/>\n       <use x=\"100\" xlink:href=\"#SimHei-53\"/>\n       <use x=\"150\" xlink:href=\"#SimHei-48\"/>\n      </g>\n     </g>\n    </g>\n   </g>\n   <g id=\"line2d_16\">\n    <path clip-path=\"url(#p360bf90366)\" d=\"M 54.418182 17.083636 \nL 57.492562 19.080331 \nL 60.566942 21.077025 \nL 63.641322 23.073719 \nL 66.715702 25.070413 \nL 69.790083 27.067107 \nL 72.864463 29.063802 \nL 75.938843 31.060496 \nL 79.013223 33.05719 \nL 82.087603 35.053884 \nL 85.161983 37.050579 \nL 88.236364 39.047273 \nL 91.310744 41.043967 \nL 94.385124 43.040661 \nL 97.459504 45.037355 \nL 100.533884 47.03405 \nL 103.608264 49.030744 \nL 106.682645 51.027438 \nL 109.757025 53.024132 \nL 112.831405 55.020826 \nL 115.905785 57.017521 \nL 118.980165 59.014215 \nL 122.054545 61.010909 \nL 125.128926 63.007603 \nL 128.203306 65.004298 \nL 131.277686 67.000992 \nL 134.352066 68.997686 \nL 137.426446 70.99438 \nL 140.500826 72.991074 \nL 143.575207 74.987769 \nL 146.649587 76.984463 \nL 149.723967 78.981157 \nL 152.798347 80.977851 \nL 155.872727 82.974545 \nL 158.947107 84.97124 \nL 162.021488 86.967934 \nL 165.095868 88.964628 \nL 168.170248 90.961322 \nL 171.244628 92.958017 \nL 174.319008 94.954711 \nL 177.393388 96.951405 \nL 180.467769 98.948099 \nL 183.542149 100.944793 \nL 186.616529 102.941488 \nL 189.690909 104.938182 \nL 192.765289 106.934876 \nL 195.839669 108.93157 \nL 198.91405 110.928264 \nL 201.98843 112.924959 \nL 205.06281 114.921653 \nL 208.13719 116.918347 \nL 211.21157 118.915041 \nL 214.28595 120.911736 \nL 217.360331 122.90843 \nL 220.434711 124.905124 \nL 223.509091 126.901818 \nL 226.583471 128.898512 \nL 229.657851 130.895207 \nL 232.732231 132.891901 \nL 235.806612 134.888595 \nL 238.880992 136.885289 \nL 241.955372 138.881983 \nL 245.029752 140.878678 \nL 248.104132 142.875372 \nL 251.178512 144.872066 \nL 254.252893 146.86876 \nL 257.327273 148.865455 \nL 260.401653 150.862149 \nL 263.476033 152.858843 \nL 266.550413 154.855537 \nL 269.624793 156.852231 \nL 272.699174 158.848926 \nL 275.773554 160.84562 \nL 278.847934 162.842314 \nL 281.922314 164.839008 \nL 284.996694 166.835702 \nL 288.071074 168.832397 \nL 291.145455 170.829091 \nL 294.219835 172.825785 \nL 297.294215 174.822479 \nL 300.368595 176.819174 \nL 303.442975 178.815868 \nL 306.517355 180.812562 \nL 309.591736 182.809256 \nL 312.666116 184.80595 \nL 315.740496 186.802645 \nL 318.814876 188.799339 \nL 321.889256 190.796033 \nL 324.963636 192.792727 \nL 328.038017 194.789421 \nL 331.112397 196.786116 \nL 334.186777 198.78281 \nL 337.261157 200.779504 \nL 340.335537 202.776198 \nL 343.409917 204.772893 \nL 346.484298 206.769587 \nL 349.558678 208.766281 \nL 352.633058 210.762975 \nL 355.707438 212.759669 \nL 358.781818 214.756364 \n\" style=\"fill:none;stroke:#1f77b4;stroke-linecap:square;stroke-width:1.5;\"/>\n   </g>\n   <g id=\"patch_3\">\n    <path d=\"M 39.2 224.64 \nL 39.2 7.2 \n\" style=\"fill:none;stroke:#000000;stroke-linecap:square;stroke-linejoin:miter;stroke-width:0.8;\"/>\n   </g>\n   <g id=\"patch_4\">\n    <path d=\"M 374 224.64 \nL 374 7.2 \n\" style=\"fill:none;stroke:#000000;stroke-linecap:square;stroke-linejoin:miter;stroke-width:0.8;\"/>\n   </g>\n   <g id=\"patch_5\">\n    <path d=\"M 39.2 224.64 \nL 374 224.64 \n\" style=\"fill:none;stroke:#000000;stroke-linecap:square;stroke-linejoin:miter;stroke-width:0.8;\"/>\n   </g>\n   <g id=\"patch_6\">\n    <path d=\"M 39.2 7.2 \nL 374 7.2 \n\" style=\"fill:none;stroke:#000000;stroke-linecap:square;stroke-linejoin:miter;stroke-width:0.8;\"/>\n   </g>\n  </g>\n </g>\n <defs>\n  <clipPath id=\"p360bf90366\">\n   <rect height=\"217.44\" width=\"334.8\" x=\"39.2\" y=\"7.2\"/>\n  </clipPath>\n </defs>\n</svg>\n",
      "image/png": "[encoded data removed]"
     },
     "metadata": {
      "needs_background": "light"
     }
    }
   ],
   "source": [
    "plt.scatter(X1[Y],X2[Y],c='r')\n",
    "plt.scatter(X1[Y_0],X2[Y_0],c='g')\n",
    "\n",
    "x = np.linspace(0,1,100)\n",
    "y = 1.5-2*x\n",
    "plt.plot(x,y)\n",
    "plt.show()"
   ]
  },
  {
   "cell_type": "code",
   "execution_count": null,
   "metadata": {},
   "outputs": [],
   "source": []
  },
  {
   "cell_type": "code",
   "execution_count": 10,
   "metadata": {},
   "outputs": [
    {
     "output_type": "execute_result",
     "data": {
      "text/plain": [
       "(array([[0.97782444, 0.26983369],\n",
       "        [0.21315164, 0.96730787],\n",
       "        [0.48256248, 0.71498176],\n",
       "        [0.66577591, 0.56649361],\n",
       "        [0.63085146, 0.19730574],\n",
       "        [0.3387597 , 0.98180709],\n",
       "        [0.24602049, 0.59903392],\n",
       "        [0.21432595, 0.45448423],\n",
       "        [0.20171299, 0.04340704],\n",
       "        [0.53608366, 0.19040308]]),\n",
       " array([0., 0.]),\n",
       " array([ 1, -1,  1,  1, -1,  1, -1, -1, -1, -1]))"
      ]
     },
     "metadata": {},
     "execution_count": 10
    }
   ],
   "source": [
    "w = np.zeros(D.shape[1])\n",
    "y = Y.astype(int)\n",
    "y = y*2-1\n",
    "D,w,y"
   ]
  },
  {
   "source": [
    "## 准备模型"
   ],
   "cell_type": "markdown",
   "metadata": {}
  },
  {
   "cell_type": "code",
   "execution_count": 12,
   "metadata": {},
   "outputs": [],
   "source": [
    "\n",
    "def ganzhiqi(x):\n",
    "    y = np.dot(w,x)\n",
    "    # print(y)\n",
    "    if y>0:\n",
    "        return 1\n",
    "    else:\n",
    "        return -1\n",
    "    \n"
   ]
  },
  {
   "cell_type": "code",
   "execution_count": 13,
   "metadata": {},
   "outputs": [
    {
     "output_type": "execute_result",
     "data": {
      "text/plain": [
       "-1"
      ]
     },
     "metadata": {},
     "execution_count": 13
    }
   ],
   "source": [
    "ganzhiqi(np.array([1,2]))\n",
    "# D"
   ]
  },
  {
   "cell_type": "code",
   "execution_count": 128,
   "metadata": {},
   "outputs": [
    {
     "output_type": "stream",
     "name": "stdout",
     "text": [
      "0 [0.70565007 0.57158707] 1\n1 [0.05284612 0.89150826] -1\n2 [0.55576153 0.82309079] 1\n3 [0.4003751  0.22729454] -1\n更新: 1 [-0.10286689 -0.24496503]\n4 [0.82977445 0.00314861] 1\n更新: 2 [ 0.72690757 -0.24181642]\n5 [0.73011737 0.14728212] 1\n6 [0.42752044 0.41751695] -1\n更新: 3 [ 0.29938713 -0.65933337]\n7 [0.92183939 0.43542424] 1\n更新: 4 [ 1.22122652 -0.22390913]\n8 [0.84306864 0.92382423] 1\n9 [0.63818082 0.04466032] -1\n更新: 5 [ 0.5830457  -0.26856945]\n0 [0.70565007 0.57158707] 1\n1 [0.05284612 0.89150826] -1\n2 [0.55576153 0.82309079] 1\n3 [0.4003751  0.22729454] -1\n更新: 6 [ 0.1826706  -0.49586399]\n4 [0.82977445 0.00314861] 1\n5 [0.73011737 0.14728212] 1\n6 [0.42752044 0.41751695] -1\n7 [0.92183939 0.43542424] 1\n更新: 7 [ 1.10450999 -0.06043975]\n8 [0.84306864 0.92382423] 1\n9 [0.63818082 0.04466032] -1\n更新: 8 [ 0.46632917 -0.10510007]\n0 [0.70565007 0.57158707] 1\n1 [0.05284612 0.89150826] -1\n2 [0.55576153 0.82309079] 1\n3 [0.4003751  0.22729454] -1\n更新: 9 [ 0.06595407 -0.33239461]\n4 [0.82977445 0.00314861] 1\n5 [0.73011737 0.14728212] 1\n更新: 10 [ 0.79607144 -0.18511249]\n6 [0.42752044 0.41751695] -1\n更新: 11 [ 0.368551   -0.60262944]\n7 [0.92183939 0.43542424] 1\n8 [0.84306864 0.92382423] 1\n更新: 12 [1.21161964 0.32119479]\n9 [0.63818082 0.04466032] -1\n更新: 13 [0.57343882 0.27653447]\n0 [0.70565007 0.57158707] 1\n1 [0.05284612 0.89150826] -1\n更新: 14 [ 0.52059269 -0.61497379]\n2 [0.55576153 0.82309079] 1\n更新: 15 [1.07635423 0.208117  ]\n3 [0.4003751  0.22729454] -1\n更新: 16 [ 0.67597913 -0.01917754]\n4 [0.82977445 0.00314861] 1\n5 [0.73011737 0.14728212] 1\n6 [0.42752044 0.41751695] -1\n更新: 17 [ 0.24845869 -0.4366945 ]\n7 [0.92183939 0.43542424] 1\n8 [0.84306864 0.92382423] 1\n更新: 18 [1.09152733 0.48712973]\n9 [0.63818082 0.04466032] -1\n更新: 19 [0.45334651 0.44246942]\n0 [0.70565007 0.57158707] 1\n1 [0.05284612 0.89150826] -1\n更新: 20 [ 0.40050039 -0.44903884]\n2 [0.55576153 0.82309079] 1\n更新: 21 [0.95626192 0.37405195]\n3 [0.4003751  0.22729454] -1\n更新: 22 [0.55588682 0.1467574 ]\n4 [0.82977445 0.00314861] 1\n5 [0.73011737 0.14728212] 1\n6 [0.42752044 0.41751695] -1\n更新: 23 [ 0.12836638 -0.27075955]\n7 [0.92183939 0.43542424] 1\n8 [0.84306864 0.92382423] 1\n更新: 24 [0.97143502 0.65306468]\n9 [0.63818082 0.04466032] -1\n更新: 25 [0.3332542  0.60840437]\n0 [0.70565007 0.57158707] 1\n1 [0.05284612 0.89150826] -1\n更新: 26 [ 0.28040808 -0.28310389]\n2 [0.55576153 0.82309079] 1\n更新: 27 [0.83616961 0.5399869 ]\n3 [0.4003751  0.22729454] -1\n更新: 28 [0.43579452 0.31269235]\n4 [0.82977445 0.00314861] 1\n5 [0.73011737 0.14728212] 1\n6 [0.42752044 0.41751695] -1\n更新: 29 [ 0.00827408 -0.1048246 ]\n7 [0.92183939 0.43542424] 1\n更新: 30 [0.93011346 0.33059963]\n8 [0.84306864 0.92382423] 1\n9 [0.63818082 0.04466032] -1\n更新: 31 [0.29193264 0.28593932]\n0 [0.70565007 0.57158707] 1\n1 [0.05284612 0.89150826] -1\n更新: 32 [ 0.23908652 -0.60556894]\n2 [0.55576153 0.82309079] 1\n更新: 33 [0.79484805 0.21752185]\n3 [0.4003751  0.22729454] -1\n更新: 34 [ 0.39447296 -0.00977269]\n4 [0.82977445 0.00314861] 1\n5 [0.73011737 0.14728212] 1\n6 [0.42752044 0.41751695] -1\n更新: 35 [-0.03304748 -0.42728965]\n7 [0.92183939 0.43542424] 1\n更新: 36 [0.88879191 0.00813459]\n8 [0.84306864 0.92382423] 1\n9 [0.63818082 0.04466032] -1\n更新: 37 [ 0.25061109 -0.03652573]\n0 [0.70565007 0.57158707] 1\n1 [0.05284612 0.89150826] -1\n2 [0.55576153 0.82309079] 1\n3 [0.4003751  0.22729454] -1\n更新: 38 [-0.14976401 -0.26382027]\n4 [0.82977445 0.00314861] 1\n更新: 39 [ 0.68001044 -0.26067166]\n5 [0.73011737 0.14728212] 1\n6 [0.42752044 0.41751695] -1\n更新: 40 [ 0.25249    -0.67818861]\n7 [0.92183939 0.43542424] 1\n更新: 41 [ 1.17432939 -0.24276437]\n8 [0.84306864 0.92382423] 1\n9 [0.63818082 0.04466032] -1\n更新: 42 [ 0.53614857 -0.28742469]\n0 [0.70565007 0.57158707] 1\n1 [0.05284612 0.89150826] -1\n2 [0.55576153 0.82309079] 1\n3 [0.4003751  0.22729454] -1\n更新: 43 [ 0.13577348 -0.51471923]\n4 [0.82977445 0.00314861] 1\n5 [0.73011737 0.14728212] 1\n6 [0.42752044 0.41751695] -1\n7 [0.92183939 0.43542424] 1\n更新: 44 [ 1.05761287 -0.079295  ]\n8 [0.84306864 0.92382423] 1\n9 [0.63818082 0.04466032] -1\n更新: 45 [ 0.41943205 -0.12395531]\n0 [0.70565007 0.57158707] 1\n1 [0.05284612 0.89150826] -1\n2 [0.55576153 0.82309079] 1\n3 [0.4003751  0.22729454] -1\n更新: 46 [ 0.01905695 -0.35124985]\n4 [0.82977445 0.00314861] 1\n5 [0.73011737 0.14728212] 1\n更新: 47 [ 0.74917432 -0.20396773]\n6 [0.42752044 0.41751695] -1\n更新: 48 [ 0.32165388 -0.62148469]\n7 [0.92183939 0.43542424] 1\n8 [0.84306864 0.92382423] 1\n更新: 49 [1.16472251 0.30233954]\n9 [0.63818082 0.04466032] -1\n更新: 50 [0.52654169 0.25767923]\n0 [0.70565007 0.57158707] 1\n1 [0.05284612 0.89150826] -1\n更新: 51 [ 0.47369557 -0.63382903]\n2 [0.55576153 0.82309079] 1\n更新: 52 [1.0294571  0.18926176]\n3 [0.4003751  0.22729454] -1\n更新: 53 [ 0.62908201 -0.03803279]\n4 [0.82977445 0.00314861] 1\n5 [0.73011737 0.14728212] 1\n6 [0.42752044 0.41751695] -1\n更新: 54 [ 0.20156157 -0.45554974]\n7 [0.92183939 0.43542424] 1\n更新: 55 [ 1.12340096 -0.0201255 ]\n8 [0.84306864 0.92382423] 1\n9 [0.63818082 0.04466032] -1\n更新: 56 [ 0.48522014 -0.06478582]\n0 [0.70565007 0.57158707] 1\n1 [0.05284612 0.89150826] -1\n2 [0.55576153 0.82309079] 1\n3 [0.4003751  0.22729454] -1\n更新: 57 [ 0.08484504 -0.29208036]\n4 [0.82977445 0.00314861] 1\n5 [0.73011737 0.14728212] 1\n6 [0.42752044 0.41751695] -1\n7 [0.92183939 0.43542424] 1\n更新: 58 [1.00668443 0.14334388]\n8 [0.84306864 0.92382423] 1\n9 [0.63818082 0.04466032] -1\n更新: 59 [0.36850361 0.09868356]\n0 [0.70565007 0.57158707] 1\n1 [0.05284612 0.89150826] -1\n更新: 60 [ 0.31565749 -0.7928247 ]\n2 [0.55576153 0.82309079] 1\n更新: 61 [0.87141902 0.03026609]\n3 [0.4003751  0.22729454] -1\n更新: 62 [ 0.47104392 -0.19702845]\n4 [0.82977445 0.00314861] 1\n5 [0.73011737 0.14728212] 1\n6 [0.42752044 0.41751695] -1\n更新: 63 [ 0.04352348 -0.61454541]\n7 [0.92183939 0.43542424] 1\n更新: 64 [ 0.96536287 -0.17912117]\n8 [0.84306864 0.92382423] 1\n9 [0.63818082 0.04466032] -1\n更新: 65 [ 0.32718205 -0.22378148]\n0 [0.70565007 0.57158707] 1\n1 [0.05284612 0.89150826] -1\n2 [0.55576153 0.82309079] 1\n更新: 66 [0.88294358 0.59930931]\n3 [0.4003751  0.22729454] -1\n更新: 67 [0.48256849 0.37201476]\n4 [0.82977445 0.00314861] 1\n5 [0.73011737 0.14728212] 1\n6 [0.42752044 0.41751695] -1\n更新: 68 [ 0.05504805 -0.04550219]\n7 [0.92183939 0.43542424] 1\n8 [0.84306864 0.92382423] 1\n9 [0.63818082 0.04466032] -1\n更新: 69 [-0.58313277 -0.09016251]\n0 [0.70565007 0.57158707] 1\n更新: 70 [0.1225173  0.48142457]\n1 [0.05284612 0.89150826] -1\n更新: 71 [ 0.06967118 -0.41008369]\n2 [0.55576153 0.82309079] 1\n更新: 72 [0.62543271 0.4130071 ]\n3 [0.4003751  0.22729454] -1\n更新: 73 [0.22505762 0.18571255]\n4 [0.82977445 0.00314861] 1\n5 [0.73011737 0.14728212] 1\n6 [0.42752044 0.41751695] -1\n更新: 74 [-0.20246282 -0.2318044 ]\n7 [0.92183939 0.43542424] 1\n更新: 75 [0.71937656 0.20361984]\n8 [0.84306864 0.92382423] 1\n9 [0.63818082 0.04466032] -1\n更新: 76 [0.08119574 0.15895952]\n0 [0.70565007 0.57158707] 1\n1 [0.05284612 0.89150826] -1\n更新: 77 [ 0.02834962 -0.73254874]\n2 [0.55576153 0.82309079] 1\n更新: 78 [0.58411115 0.09054205]\n3 [0.4003751  0.22729454] -1\n更新: 79 [ 0.18373606 -0.13675249]\n4 [0.82977445 0.00314861] 1\n5 [0.73011737 0.14728212] 1\n6 [0.42752044 0.41751695] -1\n更新: 80 [-0.24378438 -0.55426945]\n7 [0.92183939 0.43542424] 1\n更新: 81 [ 0.67805501 -0.11884521]\n8 [0.84306864 0.92382423] 1\n9 [0.63818082 0.04466032] -1\n更新: 82 [ 0.03987419 -0.16350552]\n0 [0.70565007 0.57158707] 1\n更新: 83 [0.74552426 0.40808155]\n1 [0.05284612 0.89150826] -1\n更新: 84 [ 0.69267814 -0.48342671]\n2 [0.55576153 0.82309079] 1\n更新: 85 [1.24843967 0.33966408]\n3 [0.4003751  0.22729454] -1\n更新: 86 [0.84806457 0.11236954]\n4 [0.82977445 0.00314861] 1\n5 [0.73011737 0.14728212] 1\n6 [0.42752044 0.41751695] -1\n更新: 87 [ 0.42054413 -0.30514742]\n7 [0.92183939 0.43542424] 1\n8 [0.84306864 0.92382423] 1\n9 [0.63818082 0.04466032] -1\n更新: 88 [-0.21763669 -0.34980773]\n0 [0.70565007 0.57158707] 1\n更新: 89 [0.48801339 0.22177934]\n1 [0.05284612 0.89150826] -1\n更新: 90 [ 0.43516727 -0.66972892]\n2 [0.55576153 0.82309079] 1\n更新: 91 [0.9909288  0.15336187]\n3 [0.4003751  0.22729454] -1\n更新: 92 [ 0.5905537  -0.07393267]\n4 [0.82977445 0.00314861] 1\n5 [0.73011737 0.14728212] 1\n6 [0.42752044 0.41751695] -1\n更新: 93 [ 0.16303326 -0.49144962]\n7 [0.92183939 0.43542424] 1\n更新: 94 [ 1.08487265 -0.05602539]\n8 [0.84306864 0.92382423] 1\n9 [0.63818082 0.04466032] -1\n更新: 95 [ 0.44669183 -0.1006857 ]\n0 [0.70565007 0.57158707] 1\n1 [0.05284612 0.89150826] -1\n2 [0.55576153 0.82309079] 1\n3 [0.4003751  0.22729454] -1\n更新: 96 [ 0.04631673 -0.32798025]\n4 [0.82977445 0.00314861] 1\n5 [0.73011737 0.14728212] 1\n更新: 97 [ 0.7764341  -0.18069812]\n6 [0.42752044 0.41751695] -1\n更新: 98 [ 0.34891366 -0.59821508]\n7 [0.92183939 0.43542424] 1\n8 [0.84306864 0.92382423] 1\n更新: 99 [1.1919823  0.32560915]\n9 [0.63818082 0.04466032] -1\n更新: 100 [0.55380148 0.28094884]\n0 [0.70565007 0.57158707] 1\n1 [0.05284612 0.89150826] -1\n更新: 101 [ 0.50095536 -0.61055942]\n2 [0.55576153 0.82309079] 1\n更新: 102 [1.05671689 0.21253137]\n3 [0.4003751  0.22729454] -1\n更新: 103 [ 0.65634179 -0.01476318]\n4 [0.82977445 0.00314861] 1\n5 [0.73011737 0.14728212] 1\n6 [0.42752044 0.41751695] -1\n更新: 104 [ 0.22882135 -0.43228013]\n7 [0.92183939 0.43542424] 1\n8 [0.84306864 0.92382423] 1\n更新: 105 [1.07188999 0.4915441 ]\n9 [0.63818082 0.04466032] -1\n更新: 106 [0.43370917 0.44688378]\n0 [0.70565007 0.57158707] 1\n1 [0.05284612 0.89150826] -1\n更新: 107 [ 0.38086305 -0.44462447]\n2 [0.55576153 0.82309079] 1\n更新: 108 [0.93662458 0.37846631]\n3 [0.4003751  0.22729454] -1\n更新: 109 [0.53624948 0.15117177]\n4 [0.82977445 0.00314861] 1\n5 [0.73011737 0.14728212] 1\n6 [0.42752044 0.41751695] -1\n更新: 110 [ 0.10872904 -0.26634518]\n7 [0.92183939 0.43542424] 1\n更新: 111 [1.03056843 0.16907905]\n8 [0.84306864 0.92382423] 1\n9 [0.63818082 0.04466032] -1\n更新: 112 [0.39238761 0.12441874]\n0 [0.70565007 0.57158707] 1\n1 [0.05284612 0.89150826] -1\n更新: 113 [ 0.33954149 -0.76708952]\n2 [0.55576153 0.82309079] 1\n更新: 114 [0.89530302 0.05600127]\n3 [0.4003751  0.22729454] -1\n更新: 115 [ 0.49492793 -0.17129327]\n4 [0.82977445 0.00314861] 1\n5 [0.73011737 0.14728212] 1\n6 [0.42752044 0.41751695] -1\n更新: 116 [ 0.06740749 -0.58881023]\n7 [0.92183939 0.43542424] 1\n更新: 117 [ 0.98924688 -0.15338599]\n8 [0.84306864 0.92382423] 1\n9 [0.63818082 0.04466032] -1\n更新: 118 [ 0.35106606 -0.19804631]\n0 [0.70565007 0.57158707] 1\n1 [0.05284612 0.89150826] -1\n2 [0.55576153 0.82309079] 1\n3 [0.4003751  0.22729454] -1\n更新: 119 [-0.04930904 -0.42534085]\n4 [0.82977445 0.00314861] 1\n更新: 120 [ 0.78046541 -0.42219224]\n5 [0.73011737 0.14728212] 1\n6 [0.42752044 0.41751695] -1\n更新: 121 [ 0.35294497 -0.83970919]\n7 [0.92183939 0.43542424] 1\n更新: 122 [ 1.27478436 -0.40428495]\n8 [0.84306864 0.92382423] 1\n9 [0.63818082 0.04466032] -1\n更新: 123 [ 0.63660354 -0.44894527]\n0 [0.70565007 0.57158707] 1\n1 [0.05284612 0.89150826] -1\n2 [0.55576153 0.82309079] 1\n更新: 124 [1.19236507 0.37414552]\n3 [0.4003751  0.22729454] -1\n更新: 125 [0.79198998 0.14685098]\n4 [0.82977445 0.00314861] 1\n5 [0.73011737 0.14728212] 1\n6 [0.42752044 0.41751695] -1\n更新: 126 [ 0.36446954 -0.27066598]\n7 [0.92183939 0.43542424] 1\n8 [0.84306864 0.92382423] 1\n9 [0.63818082 0.04466032] -1\n更新: 127 [-0.27371128 -0.31532629]\n0 [0.70565007 0.57158707] 1\n更新: 128 [0.43193879 0.25626078]\n1 [0.05284612 0.89150826] -1\n更新: 129 [ 0.37909267 -0.63524748]\n2 [0.55576153 0.82309079] 1\n更新: 130 [0.9348542  0.18784331]\n3 [0.4003751  0.22729454] -1\n更新: 131 [ 0.5344791  -0.03945123]\n4 [0.82977445 0.00314861] 1\n5 [0.73011737 0.14728212] 1\n6 [0.42752044 0.41751695] -1\n更新: 132 [ 0.10695866 -0.45696819]\n7 [0.92183939 0.43542424] 1\n更新: 133 [ 1.02879805 -0.02154395]\n8 [0.84306864 0.92382423] 1\n9 [0.63818082 0.04466032] -1\n更新: 134 [ 0.39061723 -0.06620426]\nlast: [ 0.39061723 -0.06620426]\n"
     ]
    }
   ],
   "source": [
    "T = 250\n",
    "t = 0 \n",
    "k = 0\n",
    "N = len(D)\n",
    "# for n in range(N):\n",
    "while(t<T):\n",
    "    for i in range(N):\n",
    "        xi = D[i]\n",
    "        yi = y[i]\n",
    "        print(i,xi,yi)\n",
    "        if yi*ganzhiqi(xi)<0:\n",
    "            w = w + yi * xi\n",
    "            k = k + 1\n",
    "            print('更新:',k,w)\n",
    "        t = t + 1\n",
    "\n",
    "print(\"last:\",w)\n",
    "    # if \n",
    "    # if w*(y*x)<=0:\n",
    "    #     w = w + y * x\n",
    "    # t = t +1\n",
    "    # print(t,w)\n",
    "    # if t==T:\n",
    "    #     break\n",
    "    \n",
    "    \n",
    "\n",
    "\n"
   ]
  },
  {
   "cell_type": "code",
   "execution_count": null,
   "metadata": {},
   "outputs": [],
   "source": []
  },
  {
   "cell_type": "code",
   "execution_count": 16,
   "metadata": {},
   "outputs": [
    {
     "output_type": "stream",
     "name": "stdout",
     "text": [
      "[-2.3591312   2.78848011] 0\n"
     ]
    },
    {
     "output_type": "display_data",
     "data": {
      "text/plain": "<Figure size 432x288 with 1 Axes>",
      "image/png": "[encoded data removed]"
     },
     "metadata": {
      "needs_background": "light"
     }
    }
   ],
   "source": [
    "import sklearn\n",
    "import numpy as np\n",
    "\n",
    "def create_data():\n",
    "    from sklearn.datasets import make_classification\n",
    "    data, target = make_classification(n_samples=100,  # 样本个数\n",
    "                                       n_features=2,  # 特征个数\n",
    "                                       n_informative=2,  # 有效特征个数\n",
    "                                       n_redundant=0,  # 冗余特征个数（有效特征的随机组合）\n",
    "                                       n_repeated=0,  # 重复特征个数（有效特征和冗余特征的随机组合）\n",
    "                                       n_classes=2,  # 样本类别\n",
    "                                       n_clusters_per_class=1,  # 簇的个数\n",
    "                                       random_state=13)\n",
    "    return data, target\n",
    "\n",
    "\n",
    "# 数据的可视化\n",
    "def show_data(data, target):\n",
    "    import matplotlib.pyplot as plt\n",
    "    data_label = list(set(target))\n",
    "    plt.figure()\n",
    "    for i in range(len(target)):\n",
    "        if (target[i] == data_label[0]):\n",
    "            plt.scatter(data[i][0], data[i][1], c='r')\n",
    "        else:\n",
    "            plt.scatter(data[i][0], data[i][1], c='g')\n",
    "    plt.show()\n",
    "\n",
    "\n",
    "data, target = create_data()\n",
    "print(data[0], target[0])\n",
    "show_data(data, target)\n",
    "for i in range(len(target)):\n",
    "    if target[i] == 0:\n",
    "        target[i] = -1\n",
    "\n",
    "\n",
    "# # 分类效果展示\n",
    "# def show_data_line(data, target, w, b):\n",
    "#     import matplotlib.pyplot as plt\n",
    "#     import numpy as np\n",
    "#     data_label = list(set(target))\n",
    "#     plt.figure()\n",
    "#     for i in range(len(target)):\n",
    "#         if (target[i] == data_label[0]):\n",
    "#             plt.scatter(data[i][0], data[i][1], c='r')\n",
    "#         else:\n",
    "#             plt.scatter(data[i][0], data[i][1], c='g')\n",
    "\n",
    "#     # 为了更客观的看出图像的变化，这里我们先找出原来的图像的坐标轴的横纵坐标的最大，最小\n",
    "#     # x_min,x_max,y_min,y_max = 0.0,0.0,0.0,0.0\n",
    "\n",
    "#     [x_min, y_min] = np.min(data, axis=0)\n",
    "#     [x_max, y_max] = np.max(data, axis=0)\n",
    "\n",
    "#     XX = np.linspace(x_min - 1, x_max + 1)\n",
    "#     YY = -(w[0] / w[1]) * XX - b / w[1]\n",
    "#     plt.plot(XX, YY, '-c', label='Hyperplane')\n",
    "#     plt.show()\n",
    "\n",
    "\n",
    "# # 优化目标： MIN L(w,b) = (-1)*yi * (w * xi + b) 最小\n",
    "# def loss_fun(data, target, w, b):\n",
    "#     loss = 0.0\n",
    "#     for i in range(len(target)):\n",
    "#         loss += (-1) * target[i] * (np.dot(w, data[i].T) + b)\n",
    "\n",
    "#     return loss\n",
    "\n",
    "\n",
    "# # 初始化 w , b\n",
    "# w = np.array((0.0, 0.0))\n",
    "# b = 0.0\n",
    "\n",
    "# # 所有数据训练10轮\n",
    "# num_epochs = 10\n",
    "\n",
    "# # 每10条数据为一个周期\n",
    "# epoch = 20\n",
    "\n",
    "# # 学习率 0.01\n",
    "# lr = 0.01\n",
    "\n",
    "# while (num_epochs <= 30):\n",
    "#     # 随机打乱数据\n",
    "#     data, target = sklearn.utils.shuffle(data, target)\n",
    "#     # 记录已经训练过的数据的条数\n",
    "#     tarin_data_num = 0\n",
    "#     for i in range(len(target)):\n",
    "#         # 分类错误，感知机\n",
    "#         if target[i] * (np.dot(w, data[i].T) + b) <= 0:\n",
    "#             w = w + lr * target[i] * data[i]\n",
    "#             b = b + lr * target[i]\n",
    "#         if ((i + 1) % epoch == 0):\n",
    "#             print(\"第{}轮训练，after第{}条数据，分类效果如图,w:{},b:{},损失函数值为{}：\".format(num_epochs, (i + 1), w, b,\n",
    "#                                                                          loss_fun(data, target, w, b)))\n",
    "#     show_data_line(data, target, w, b)\n",
    "\n",
    "#     num_epochs += 1\n"
   ]
  }
 ]
}