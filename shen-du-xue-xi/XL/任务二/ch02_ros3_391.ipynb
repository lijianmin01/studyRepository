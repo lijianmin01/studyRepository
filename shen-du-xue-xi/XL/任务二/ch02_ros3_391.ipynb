{
 "metadata": {
  "language_info": {
   "codemirror_mode": {
    "name": "ipython",
    "version": 3
   },
   "file_extension": ".py",
   "mimetype": "text/x-python",
   "name": "python",
   "nbconvert_exporter": "python",
   "pygments_lexer": "ipython3",
   "version": "3.8.5-final"
  },
  "orig_nbformat": 2,
  "kernelspec": {
   "name": "python3",
   "display_name": "Python 3.8.5 64-bit (conda)",
   "metadata": {
    "interpreter": {
     "hash": "b3ba2566441a7c06988d0923437866b63cedc61552a5af99d1f4fb67d367b25f"
    }
   }
  }
 },
 "nbformat": 4,
 "nbformat_minor": 2,
 "cells": [
  {
   "cell_type": "code",
   "execution_count": 95,
   "metadata": {},
   "outputs": [],
   "source": [
    "import numpy as np\n",
    "from matplotlib import pyplot as plt\n",
    "\n"
   ]
  },
  {
   "cell_type": "code",
   "execution_count": 96,
   "metadata": {},
   "outputs": [],
   "source": [
    "D = np.random.random((10,2))"
   ]
  },
  {
   "cell_type": "code",
   "execution_count": 97,
   "metadata": {},
   "outputs": [
    {
     "output_type": "execute_result",
     "data": {
      "text/plain": [
       "array([[0.70565007, 0.57158707],\n",
       "       [0.05284612, 0.89150826],\n",
       "       [0.55576153, 0.82309079],\n",
       "       [0.4003751 , 0.22729454],\n",
       "       [0.82977445, 0.00314861],\n",
       "       [0.73011737, 0.14728212],\n",
       "       [0.42752044, 0.41751695],\n",
       "       [0.92183939, 0.43542424],\n",
       "       [0.84306864, 0.92382423],\n",
       "       [0.63818082, 0.04466032]])"
      ]
     },
     "metadata": {},
     "execution_count": 97
    }
   ],
   "source": [
    "D"
   ]
  },
  {
   "cell_type": "code",
   "execution_count": 98,
   "metadata": {},
   "outputs": [],
   "source": [
    "D1 = np.array([[0.64754855, 0.59507059],\n",
    "       [0.3120167 , 0.03192053],\n",
    "       [0.37969568, 0.86204827],\n",
    "       [0.02818424, 0.98058601],\n",
    "       [0.396828  , 0.31667695],\n",
    "       [0.61613117, 0.34472543],\n",
    "       [0.74338109, 0.51823655],\n",
    "       [0.73737023, 0.62347628],\n",
    "       [0.46752571, 0.39628274],\n",
    "       [0.63097959, 0.38178618]])"
   ]
  },
  {
   "cell_type": "code",
   "execution_count": 99,
   "metadata": {},
   "outputs": [
    {
     "output_type": "execute_result",
     "data": {
      "text/plain": [
       "array([[0.64754855, 0.59507059],\n",
       "       [0.3120167 , 0.03192053],\n",
       "       [0.37969568, 0.86204827],\n",
       "       [0.02818424, 0.98058601],\n",
       "       [0.396828  , 0.31667695],\n",
       "       [0.61613117, 0.34472543],\n",
       "       [0.74338109, 0.51823655],\n",
       "       [0.73737023, 0.62347628],\n",
       "       [0.46752571, 0.39628274],\n",
       "       [0.63097959, 0.38178618]])"
      ]
     },
     "metadata": {},
     "execution_count": 99
    }
   ],
   "source": [
    "D1"
   ]
  },
  {
   "cell_type": "code",
   "execution_count": 100,
   "metadata": {},
   "outputs": [
    {
     "output_type": "execute_result",
     "data": {
      "text/plain": [
       "(array([ True, False,  True, False,  True,  True, False,  True,  True,\n",
       "        False]),\n",
       " array([0.70565007, 0.05284612, 0.55576153, 0.4003751 , 0.82977445,\n",
       "        0.73011737, 0.42752044, 0.92183939, 0.84306864, 0.63818082]),\n",
       " array([0.57158707, 0.89150826, 0.82309079, 0.22729454, 0.00314861,\n",
       "        0.14728212, 0.41751695, 0.43542424, 0.92382423, 0.04466032]))"
      ]
     },
     "metadata": {},
     "execution_count": 100
    }
   ],
   "source": [
    "X1 = D[:,0]\n",
    "X2 = D[:,1]\n",
    "X1,X2\n",
    "Y = np.array([(2*x1+x2)>1.5 for (x1,x2) in zip(X1,X2)])\n",
    "Y , X1 , X2"
   ]
  },
  {
   "cell_type": "code",
   "execution_count": 27,
   "metadata": {},
   "outputs": [
    {
     "output_type": "stream",
     "name": "stdout",
     "text": [
      "[0.93749279 0.82513063 0.64898222 0.88499995] [0.58900669 0.45892086 0.60858472 0.32652768]\n[False False False  True  True  True  True False False False] [ True  True  True False False False False  True  True  True]\n[0.56504776 0.26100104 0.24444802 0.11033772 0.55222149 0.40296979] [0.29552953 0.05634327 0.70788995 0.07402598 0.10048627 0.18125545]\n"
     ]
    }
   ],
   "source": [
    "print(X1[Y],X2[Y])\n",
    "Y_0 = ((Y-1)*(-1)).astype(bool)\n",
    "print(Y,Y_0)\n",
    "print(X1[Y_0],X2[Y_0])\n"
   ]
  },
  {
   "cell_type": "code",
   "execution_count": 33,
   "metadata": {},
   "outputs": [
    {
     "output_type": "display_data",
     "data": {
      "text/plain": "<Figure size 432x288 with 1 Axes>",
      "image/svg+xml": "<?xml version=\"1.0\" encoding=\"utf-8\" standalone=\"no\"?>\r\n<!DOCTYPE svg PUBLIC \"-//W3C//DTD SVG 1.1//EN\"\r\n  \"http://www.w3.org/Graphics/SVG/1.1/DTD/svg11.dtd\">\r\n<!-- Created with matplotlib (https://matplotlib.org/) -->\r\n<svg height=\"248.518125pt\" version=\"1.1\" viewBox=\"0 0 386.845313 248.518125\" width=\"386.845313pt\" xmlns=\"http://www.w3.org/2000/svg\" xmlns:xlink=\"http://www.w3.org/1999/xlink\">\r\n <metadata>\r\n  <rdf:RDF xmlns:cc=\"http://creativecommons.org/ns#\" xmlns:dc=\"http://purl.org/dc/elements/1.1/\" xmlns:rdf=\"http://www.w3.org/1999/02/22-rdf-syntax-ns#\">\r\n   <cc:Work>\r\n    <dc:type rdf:resource=\"http://purl.org/dc/dcmitype/StillImage\"/>\r\n    <dc:date>2021-03-09T15:09:53.270057</dc:date>\r\n    <dc:format>image/svg+xml</dc:format>\r\n    <dc:creator>\r\n     <cc:Agent>\r\n      <dc:title>Matplotlib v3.3.2, https://matplotlib.org/</dc:title>\r\n     </cc:Agent>\r\n    </dc:creator>\r\n   </cc:Work>\r\n  </rdf:RDF>\r\n </metadata>\r\n <defs>\r\n  <style type=\"text/css\">*{stroke-linecap:butt;stroke-linejoin:round;}</style>\r\n </defs>\r\n <g id=\"figure_1\">\r\n  <g id=\"patch_1\">\r\n   <path d=\"M 0 248.518125 \r\nL 386.845313 248.518125 \r\nL 386.845313 0 \r\nL 0 0 \r\nz\r\n\" style=\"fill:none;\"/>\r\n  </g>\r\n  <g id=\"axes_1\">\r\n   <g id=\"patch_2\">\r\n    <path d=\"M 44.845313 224.64 \r\nL 379.645313 224.64 \r\nL 379.645313 7.2 \r\nL 44.845313 7.2 \r\nz\r\n\" style=\"fill:#ffffff;\"/>\r\n   </g>\r\n   <g id=\"PathCollection_1\">\r\n    <defs>\r\n     <path d=\"M 0 3 \r\nC 0.795609 3 1.55874 2.683901 2.12132 2.12132 \r\nC 2.683901 1.55874 3 0.795609 3 0 \r\nC 3 -0.795609 2.683901 -1.55874 2.12132 -2.12132 \r\nC 1.55874 -2.683901 0.795609 -3 0 -3 \r\nC -0.795609 -3 -1.55874 -2.683901 -2.12132 -2.12132 \r\nC -2.683901 -1.55874 -3 -0.795609 -3 0 \r\nC -3 0.795609 -2.683901 1.55874 -2.12132 2.12132 \r\nC -1.55874 2.683901 -0.795609 3 0 3 \r\nz\r\n\" id=\"m477e228f4e\" style=\"stroke:#ff0000;\"/>\r\n    </defs>\r\n    <g clip-path=\"url(#pc50825c04f)\">\r\n     <use style=\"fill:#ff0000;stroke:#ff0000;\" x=\"345.402207\" xlink:href=\"#m477e228f4e\" y=\"107.122903\"/>\r\n     <use style=\"fill:#ff0000;stroke:#ff0000;\" x=\"311.203254\" xlink:href=\"#m477e228f4e\" y=\"119.980113\"/>\r\n     <use style=\"fill:#ff0000;stroke:#ff0000;\" x=\"257.590082\" xlink:href=\"#m477e228f4e\" y=\"105.187881\"/>\r\n     <use style=\"fill:#ff0000;stroke:#ff0000;\" x=\"329.425296\" xlink:href=\"#m477e228f4e\" y=\"133.065373\"/>\r\n    </g>\r\n   </g>\r\n   <g id=\"PathCollection_2\">\r\n    <defs>\r\n     <path d=\"M 0 3 \r\nC 0.795609 3 1.55874 2.683901 2.12132 2.12132 \r\nC 2.683901 1.55874 3 0.795609 3 0 \r\nC 3 -0.795609 2.683901 -1.55874 2.12132 -2.12132 \r\nC 1.55874 -2.683901 0.795609 -3 0 -3 \r\nC -0.795609 -3 -1.55874 -2.683901 -2.12132 -2.12132 \r\nC -2.683901 -1.55874 -3 -0.795609 -3 0 \r\nC -3 0.795609 -2.683901 1.55874 -2.12132 2.12132 \r\nC -1.55874 2.683901 -0.795609 3 0 3 \r\nz\r\n\" id=\"m5d403a95f4\" style=\"stroke:#008000;\"/>\r\n    </defs>\r\n    <g clip-path=\"url(#pc50825c04f)\">\r\n     <use style=\"fill:#008000;stroke:#008000;\" x=\"232.043486\" xlink:href=\"#m5d403a95f4\" y=\"136.129118\"/>\r\n     <use style=\"fill:#008000;stroke:#008000;\" x=\"139.502721\" xlink:href=\"#m5d403a95f4\" y=\"159.769417\"/>\r\n     <use style=\"fill:#008000;stroke:#008000;\" x=\"134.464582\" xlink:href=\"#m5d403a95f4\" y=\"95.372913\"/>\r\n     <use style=\"fill:#008000;stroke:#008000;\" x=\"93.646284\" xlink:href=\"#m5d403a95f4\" y=\"158.021723\"/>\r\n     <use style=\"fill:#008000;stroke:#008000;\" x=\"228.139636\" xlink:href=\"#m5d403a95f4\" y=\"155.406484\"/>\r\n     <use style=\"fill:#008000;stroke:#008000;\" x=\"182.712846\" xlink:href=\"#m5d403a95f4\" y=\"147.423552\"/>\r\n    </g>\r\n   </g>\r\n   <g id=\"matplotlib.axis_1\">\r\n    <g id=\"xtick_1\">\r\n     <g id=\"line2d_1\">\r\n      <defs>\r\n       <path d=\"M 0 0 \r\nL 0 3.5 \r\n\" id=\"m9dca144fff\" style=\"stroke:#000000;stroke-width:0.8;\"/>\r\n      </defs>\r\n      <g>\r\n       <use style=\"stroke:#000000;stroke-width:0.8;\" x=\"60.063494\" xlink:href=\"#m9dca144fff\" y=\"224.64\"/>\r\n      </g>\r\n     </g>\r\n     <g id=\"text_1\">\r\n      <!-- 0.0 -->\r\n      <g transform=\"translate(52.111932 239.238437)scale(0.1 -0.1)\">\r\n       <defs>\r\n        <path d=\"M 31.78125 66.40625 \r\nQ 24.171875 66.40625 20.328125 58.90625 \r\nQ 16.5 51.421875 16.5 36.375 \r\nQ 16.5 21.390625 20.328125 13.890625 \r\nQ 24.171875 6.390625 31.78125 6.390625 \r\nQ 39.453125 6.390625 43.28125 13.890625 \r\nQ 47.125 21.390625 47.125 36.375 \r\nQ 47.125 51.421875 43.28125 58.90625 \r\nQ 39.453125 66.40625 31.78125 66.40625 \r\nz\r\nM 31.78125 74.21875 \r\nQ 44.046875 74.21875 50.515625 64.515625 \r\nQ 56.984375 54.828125 56.984375 36.375 \r\nQ 56.984375 17.96875 50.515625 8.265625 \r\nQ 44.046875 -1.421875 31.78125 -1.421875 \r\nQ 19.53125 -1.421875 13.0625 8.265625 \r\nQ 6.59375 17.96875 6.59375 36.375 \r\nQ 6.59375 54.828125 13.0625 64.515625 \r\nQ 19.53125 74.21875 31.78125 74.21875 \r\nz\r\n\" id=\"DejaVuSans-48\"/>\r\n        <path d=\"M 10.6875 12.40625 \r\nL 21 12.40625 \r\nL 21 0 \r\nL 10.6875 0 \r\nz\r\n\" id=\"DejaVuSans-46\"/>\r\n       </defs>\r\n       <use xlink:href=\"#DejaVuSans-48\"/>\r\n       <use x=\"63.623047\" xlink:href=\"#DejaVuSans-46\"/>\r\n       <use x=\"95.410156\" xlink:href=\"#DejaVuSans-48\"/>\r\n      </g>\r\n     </g>\r\n    </g>\r\n    <g id=\"xtick_2\">\r\n     <g id=\"line2d_2\">\r\n      <g>\r\n       <use style=\"stroke:#000000;stroke-width:0.8;\" x=\"120.936222\" xlink:href=\"#m9dca144fff\" y=\"224.64\"/>\r\n      </g>\r\n     </g>\r\n     <g id=\"text_2\">\r\n      <!-- 0.2 -->\r\n      <g transform=\"translate(112.984659 239.238437)scale(0.1 -0.1)\">\r\n       <defs>\r\n        <path d=\"M 19.1875 8.296875 \r\nL 53.609375 8.296875 \r\nL 53.609375 0 \r\nL 7.328125 0 \r\nL 7.328125 8.296875 \r\nQ 12.9375 14.109375 22.625 23.890625 \r\nQ 32.328125 33.6875 34.8125 36.53125 \r\nQ 39.546875 41.84375 41.421875 45.53125 \r\nQ 43.3125 49.21875 43.3125 52.78125 \r\nQ 43.3125 58.59375 39.234375 62.25 \r\nQ 35.15625 65.921875 28.609375 65.921875 \r\nQ 23.96875 65.921875 18.8125 64.3125 \r\nQ 13.671875 62.703125 7.8125 59.421875 \r\nL 7.8125 69.390625 \r\nQ 13.765625 71.78125 18.9375 73 \r\nQ 24.125 74.21875 28.421875 74.21875 \r\nQ 39.75 74.21875 46.484375 68.546875 \r\nQ 53.21875 62.890625 53.21875 53.421875 \r\nQ 53.21875 48.921875 51.53125 44.890625 \r\nQ 49.859375 40.875 45.40625 35.40625 \r\nQ 44.1875 33.984375 37.640625 27.21875 \r\nQ 31.109375 20.453125 19.1875 8.296875 \r\nz\r\n\" id=\"DejaVuSans-50\"/>\r\n       </defs>\r\n       <use xlink:href=\"#DejaVuSans-48\"/>\r\n       <use x=\"63.623047\" xlink:href=\"#DejaVuSans-46\"/>\r\n       <use x=\"95.410156\" xlink:href=\"#DejaVuSans-50\"/>\r\n      </g>\r\n     </g>\r\n    </g>\r\n    <g id=\"xtick_3\">\r\n     <g id=\"line2d_3\">\r\n      <g>\r\n       <use style=\"stroke:#000000;stroke-width:0.8;\" x=\"181.808949\" xlink:href=\"#m9dca144fff\" y=\"224.64\"/>\r\n      </g>\r\n     </g>\r\n     <g id=\"text_3\">\r\n      <!-- 0.4 -->\r\n      <g transform=\"translate(173.857386 239.238437)scale(0.1 -0.1)\">\r\n       <defs>\r\n        <path d=\"M 37.796875 64.3125 \r\nL 12.890625 25.390625 \r\nL 37.796875 25.390625 \r\nz\r\nM 35.203125 72.90625 \r\nL 47.609375 72.90625 \r\nL 47.609375 25.390625 \r\nL 58.015625 25.390625 \r\nL 58.015625 17.1875 \r\nL 47.609375 17.1875 \r\nL 47.609375 0 \r\nL 37.796875 0 \r\nL 37.796875 17.1875 \r\nL 4.890625 17.1875 \r\nL 4.890625 26.703125 \r\nz\r\n\" id=\"DejaVuSans-52\"/>\r\n       </defs>\r\n       <use xlink:href=\"#DejaVuSans-48\"/>\r\n       <use x=\"63.623047\" xlink:href=\"#DejaVuSans-46\"/>\r\n       <use x=\"95.410156\" xlink:href=\"#DejaVuSans-52\"/>\r\n      </g>\r\n     </g>\r\n    </g>\r\n    <g id=\"xtick_4\">\r\n     <g id=\"line2d_4\">\r\n      <g>\r\n       <use style=\"stroke:#000000;stroke-width:0.8;\" x=\"242.681676\" xlink:href=\"#m9dca144fff\" y=\"224.64\"/>\r\n      </g>\r\n     </g>\r\n     <g id=\"text_4\">\r\n      <!-- 0.6 -->\r\n      <g transform=\"translate(234.730114 239.238437)scale(0.1 -0.1)\">\r\n       <defs>\r\n        <path d=\"M 33.015625 40.375 \r\nQ 26.375 40.375 22.484375 35.828125 \r\nQ 18.609375 31.296875 18.609375 23.390625 \r\nQ 18.609375 15.53125 22.484375 10.953125 \r\nQ 26.375 6.390625 33.015625 6.390625 \r\nQ 39.65625 6.390625 43.53125 10.953125 \r\nQ 47.40625 15.53125 47.40625 23.390625 \r\nQ 47.40625 31.296875 43.53125 35.828125 \r\nQ 39.65625 40.375 33.015625 40.375 \r\nz\r\nM 52.59375 71.296875 \r\nL 52.59375 62.3125 \r\nQ 48.875 64.0625 45.09375 64.984375 \r\nQ 41.3125 65.921875 37.59375 65.921875 \r\nQ 27.828125 65.921875 22.671875 59.328125 \r\nQ 17.53125 52.734375 16.796875 39.40625 \r\nQ 19.671875 43.65625 24.015625 45.921875 \r\nQ 28.375 48.1875 33.59375 48.1875 \r\nQ 44.578125 48.1875 50.953125 41.515625 \r\nQ 57.328125 34.859375 57.328125 23.390625 \r\nQ 57.328125 12.15625 50.6875 5.359375 \r\nQ 44.046875 -1.421875 33.015625 -1.421875 \r\nQ 20.359375 -1.421875 13.671875 8.265625 \r\nQ 6.984375 17.96875 6.984375 36.375 \r\nQ 6.984375 53.65625 15.1875 63.9375 \r\nQ 23.390625 74.21875 37.203125 74.21875 \r\nQ 40.921875 74.21875 44.703125 73.484375 \r\nQ 48.484375 72.75 52.59375 71.296875 \r\nz\r\n\" id=\"DejaVuSans-54\"/>\r\n       </defs>\r\n       <use xlink:href=\"#DejaVuSans-48\"/>\r\n       <use x=\"63.623047\" xlink:href=\"#DejaVuSans-46\"/>\r\n       <use x=\"95.410156\" xlink:href=\"#DejaVuSans-54\"/>\r\n      </g>\r\n     </g>\r\n    </g>\r\n    <g id=\"xtick_5\">\r\n     <g id=\"line2d_5\">\r\n      <g>\r\n       <use style=\"stroke:#000000;stroke-width:0.8;\" x=\"303.554403\" xlink:href=\"#m9dca144fff\" y=\"224.64\"/>\r\n      </g>\r\n     </g>\r\n     <g id=\"text_5\">\r\n      <!-- 0.8 -->\r\n      <g transform=\"translate(295.602841 239.238437)scale(0.1 -0.1)\">\r\n       <defs>\r\n        <path d=\"M 31.78125 34.625 \r\nQ 24.75 34.625 20.71875 30.859375 \r\nQ 16.703125 27.09375 16.703125 20.515625 \r\nQ 16.703125 13.921875 20.71875 10.15625 \r\nQ 24.75 6.390625 31.78125 6.390625 \r\nQ 38.8125 6.390625 42.859375 10.171875 \r\nQ 46.921875 13.96875 46.921875 20.515625 \r\nQ 46.921875 27.09375 42.890625 30.859375 \r\nQ 38.875 34.625 31.78125 34.625 \r\nz\r\nM 21.921875 38.8125 \r\nQ 15.578125 40.375 12.03125 44.71875 \r\nQ 8.5 49.078125 8.5 55.328125 \r\nQ 8.5 64.0625 14.71875 69.140625 \r\nQ 20.953125 74.21875 31.78125 74.21875 \r\nQ 42.671875 74.21875 48.875 69.140625 \r\nQ 55.078125 64.0625 55.078125 55.328125 \r\nQ 55.078125 49.078125 51.53125 44.71875 \r\nQ 48 40.375 41.703125 38.8125 \r\nQ 48.828125 37.15625 52.796875 32.3125 \r\nQ 56.78125 27.484375 56.78125 20.515625 \r\nQ 56.78125 9.90625 50.3125 4.234375 \r\nQ 43.84375 -1.421875 31.78125 -1.421875 \r\nQ 19.734375 -1.421875 13.25 4.234375 \r\nQ 6.78125 9.90625 6.78125 20.515625 \r\nQ 6.78125 27.484375 10.78125 32.3125 \r\nQ 14.796875 37.15625 21.921875 38.8125 \r\nz\r\nM 18.3125 54.390625 \r\nQ 18.3125 48.734375 21.84375 45.5625 \r\nQ 25.390625 42.390625 31.78125 42.390625 \r\nQ 38.140625 42.390625 41.71875 45.5625 \r\nQ 45.3125 48.734375 45.3125 54.390625 \r\nQ 45.3125 60.0625 41.71875 63.234375 \r\nQ 38.140625 66.40625 31.78125 66.40625 \r\nQ 25.390625 66.40625 21.84375 63.234375 \r\nQ 18.3125 60.0625 18.3125 54.390625 \r\nz\r\n\" id=\"DejaVuSans-56\"/>\r\n       </defs>\r\n       <use xlink:href=\"#DejaVuSans-48\"/>\r\n       <use x=\"63.623047\" xlink:href=\"#DejaVuSans-46\"/>\r\n       <use x=\"95.410156\" xlink:href=\"#DejaVuSans-56\"/>\r\n      </g>\r\n     </g>\r\n    </g>\r\n    <g id=\"xtick_6\">\r\n     <g id=\"line2d_6\">\r\n      <g>\r\n       <use style=\"stroke:#000000;stroke-width:0.8;\" x=\"364.427131\" xlink:href=\"#m9dca144fff\" y=\"224.64\"/>\r\n      </g>\r\n     </g>\r\n     <g id=\"text_6\">\r\n      <!-- 1.0 -->\r\n      <g transform=\"translate(356.475568 239.238437)scale(0.1 -0.1)\">\r\n       <defs>\r\n        <path d=\"M 12.40625 8.296875 \r\nL 28.515625 8.296875 \r\nL 28.515625 63.921875 \r\nL 10.984375 60.40625 \r\nL 10.984375 69.390625 \r\nL 28.421875 72.90625 \r\nL 38.28125 72.90625 \r\nL 38.28125 8.296875 \r\nL 54.390625 8.296875 \r\nL 54.390625 0 \r\nL 12.40625 0 \r\nz\r\n\" id=\"DejaVuSans-49\"/>\r\n       </defs>\r\n       <use xlink:href=\"#DejaVuSans-49\"/>\r\n       <use x=\"63.623047\" xlink:href=\"#DejaVuSans-46\"/>\r\n       <use x=\"95.410156\" xlink:href=\"#DejaVuSans-48\"/>\r\n      </g>\r\n     </g>\r\n    </g>\r\n   </g>\r\n   <g id=\"matplotlib.axis_2\">\r\n    <g id=\"ytick_1\">\r\n     <g id=\"line2d_7\">\r\n      <defs>\r\n       <path d=\"M 0 0 \r\nL -3.5 0 \r\n\" id=\"m152c889d05\" style=\"stroke:#000000;stroke-width:0.8;\"/>\r\n      </defs>\r\n      <g>\r\n       <use style=\"stroke:#000000;stroke-width:0.8;\" x=\"44.845313\" xlink:href=\"#m152c889d05\" y=\"214.756364\"/>\r\n      </g>\r\n     </g>\r\n     <g id=\"text_7\">\r\n      <!-- −0.50 -->\r\n      <g transform=\"translate(7.2 218.555582)scale(0.1 -0.1)\">\r\n       <defs>\r\n        <path d=\"M 10.59375 35.5 \r\nL 73.1875 35.5 \r\nL 73.1875 27.203125 \r\nL 10.59375 27.203125 \r\nz\r\n\" id=\"DejaVuSans-8722\"/>\r\n        <path d=\"M 10.796875 72.90625 \r\nL 49.515625 72.90625 \r\nL 49.515625 64.59375 \r\nL 19.828125 64.59375 \r\nL 19.828125 46.734375 \r\nQ 21.96875 47.46875 24.109375 47.828125 \r\nQ 26.265625 48.1875 28.421875 48.1875 \r\nQ 40.625 48.1875 47.75 41.5 \r\nQ 54.890625 34.8125 54.890625 23.390625 \r\nQ 54.890625 11.625 47.5625 5.09375 \r\nQ 40.234375 -1.421875 26.90625 -1.421875 \r\nQ 22.3125 -1.421875 17.546875 -0.640625 \r\nQ 12.796875 0.140625 7.71875 1.703125 \r\nL 7.71875 11.625 \r\nQ 12.109375 9.234375 16.796875 8.0625 \r\nQ 21.484375 6.890625 26.703125 6.890625 \r\nQ 35.15625 6.890625 40.078125 11.328125 \r\nQ 45.015625 15.765625 45.015625 23.390625 \r\nQ 45.015625 31 40.078125 35.4375 \r\nQ 35.15625 39.890625 26.703125 39.890625 \r\nQ 22.75 39.890625 18.8125 39.015625 \r\nQ 14.890625 38.140625 10.796875 36.28125 \r\nz\r\n\" id=\"DejaVuSans-53\"/>\r\n       </defs>\r\n       <use xlink:href=\"#DejaVuSans-8722\"/>\r\n       <use x=\"83.789062\" xlink:href=\"#DejaVuSans-48\"/>\r\n       <use x=\"147.412109\" xlink:href=\"#DejaVuSans-46\"/>\r\n       <use x=\"179.199219\" xlink:href=\"#DejaVuSans-53\"/>\r\n       <use x=\"242.822266\" xlink:href=\"#DejaVuSans-48\"/>\r\n      </g>\r\n     </g>\r\n    </g>\r\n    <g id=\"ytick_2\">\r\n     <g id=\"line2d_8\">\r\n      <g>\r\n       <use style=\"stroke:#000000;stroke-width:0.8;\" x=\"44.845313\" xlink:href=\"#m152c889d05\" y=\"190.047273\"/>\r\n      </g>\r\n     </g>\r\n     <g id=\"text_8\">\r\n      <!-- −0.25 -->\r\n      <g transform=\"translate(7.2 193.846491)scale(0.1 -0.1)\">\r\n       <use xlink:href=\"#DejaVuSans-8722\"/>\r\n       <use x=\"83.789062\" xlink:href=\"#DejaVuSans-48\"/>\r\n       <use x=\"147.412109\" xlink:href=\"#DejaVuSans-46\"/>\r\n       <use x=\"179.199219\" xlink:href=\"#DejaVuSans-50\"/>\r\n       <use x=\"242.822266\" xlink:href=\"#DejaVuSans-53\"/>\r\n      </g>\r\n     </g>\r\n    </g>\r\n    <g id=\"ytick_3\">\r\n     <g id=\"line2d_9\">\r\n      <g>\r\n       <use style=\"stroke:#000000;stroke-width:0.8;\" x=\"44.845313\" xlink:href=\"#m152c889d05\" y=\"165.338182\"/>\r\n      </g>\r\n     </g>\r\n     <g id=\"text_9\">\r\n      <!-- 0.00 -->\r\n      <g transform=\"translate(15.579688 169.137401)scale(0.1 -0.1)\">\r\n       <use xlink:href=\"#DejaVuSans-48\"/>\r\n       <use x=\"63.623047\" xlink:href=\"#DejaVuSans-46\"/>\r\n       <use x=\"95.410156\" xlink:href=\"#DejaVuSans-48\"/>\r\n       <use x=\"159.033203\" xlink:href=\"#DejaVuSans-48\"/>\r\n      </g>\r\n     </g>\r\n    </g>\r\n    <g id=\"ytick_4\">\r\n     <g id=\"line2d_10\">\r\n      <g>\r\n       <use style=\"stroke:#000000;stroke-width:0.8;\" x=\"44.845313\" xlink:href=\"#m152c889d05\" y=\"140.629091\"/>\r\n      </g>\r\n     </g>\r\n     <g id=\"text_10\">\r\n      <!-- 0.25 -->\r\n      <g transform=\"translate(15.579688 144.42831)scale(0.1 -0.1)\">\r\n       <use xlink:href=\"#DejaVuSans-48\"/>\r\n       <use x=\"63.623047\" xlink:href=\"#DejaVuSans-46\"/>\r\n       <use x=\"95.410156\" xlink:href=\"#DejaVuSans-50\"/>\r\n       <use x=\"159.033203\" xlink:href=\"#DejaVuSans-53\"/>\r\n      </g>\r\n     </g>\r\n    </g>\r\n    <g id=\"ytick_5\">\r\n     <g id=\"line2d_11\">\r\n      <g>\r\n       <use style=\"stroke:#000000;stroke-width:0.8;\" x=\"44.845313\" xlink:href=\"#m152c889d05\" y=\"115.92\"/>\r\n      </g>\r\n     </g>\r\n     <g id=\"text_11\">\r\n      <!-- 0.50 -->\r\n      <g transform=\"translate(15.579688 119.719219)scale(0.1 -0.1)\">\r\n       <use xlink:href=\"#DejaVuSans-48\"/>\r\n       <use x=\"63.623047\" xlink:href=\"#DejaVuSans-46\"/>\r\n       <use x=\"95.410156\" xlink:href=\"#DejaVuSans-53\"/>\r\n       <use x=\"159.033203\" xlink:href=\"#DejaVuSans-48\"/>\r\n      </g>\r\n     </g>\r\n    </g>\r\n    <g id=\"ytick_6\">\r\n     <g id=\"line2d_12\">\r\n      <g>\r\n       <use style=\"stroke:#000000;stroke-width:0.8;\" x=\"44.845313\" xlink:href=\"#m152c889d05\" y=\"91.210909\"/>\r\n      </g>\r\n     </g>\r\n     <g id=\"text_12\">\r\n      <!-- 0.75 -->\r\n      <g transform=\"translate(15.579688 95.010128)scale(0.1 -0.1)\">\r\n       <defs>\r\n        <path d=\"M 8.203125 72.90625 \r\nL 55.078125 72.90625 \r\nL 55.078125 68.703125 \r\nL 28.609375 0 \r\nL 18.3125 0 \r\nL 43.21875 64.59375 \r\nL 8.203125 64.59375 \r\nz\r\n\" id=\"DejaVuSans-55\"/>\r\n       </defs>\r\n       <use xlink:href=\"#DejaVuSans-48\"/>\r\n       <use x=\"63.623047\" xlink:href=\"#DejaVuSans-46\"/>\r\n       <use x=\"95.410156\" xlink:href=\"#DejaVuSans-55\"/>\r\n       <use x=\"159.033203\" xlink:href=\"#DejaVuSans-53\"/>\r\n      </g>\r\n     </g>\r\n    </g>\r\n    <g id=\"ytick_7\">\r\n     <g id=\"line2d_13\">\r\n      <g>\r\n       <use style=\"stroke:#000000;stroke-width:0.8;\" x=\"44.845313\" xlink:href=\"#m152c889d05\" y=\"66.501818\"/>\r\n      </g>\r\n     </g>\r\n     <g id=\"text_13\">\r\n      <!-- 1.00 -->\r\n      <g transform=\"translate(15.579688 70.301037)scale(0.1 -0.1)\">\r\n       <use xlink:href=\"#DejaVuSans-49\"/>\r\n       <use x=\"63.623047\" xlink:href=\"#DejaVuSans-46\"/>\r\n       <use x=\"95.410156\" xlink:href=\"#DejaVuSans-48\"/>\r\n       <use x=\"159.033203\" xlink:href=\"#DejaVuSans-48\"/>\r\n      </g>\r\n     </g>\r\n    </g>\r\n    <g id=\"ytick_8\">\r\n     <g id=\"line2d_14\">\r\n      <g>\r\n       <use style=\"stroke:#000000;stroke-width:0.8;\" x=\"44.845313\" xlink:href=\"#m152c889d05\" y=\"41.792727\"/>\r\n      </g>\r\n     </g>\r\n     <g id=\"text_14\">\r\n      <!-- 1.25 -->\r\n      <g transform=\"translate(15.579688 45.591946)scale(0.1 -0.1)\">\r\n       <use xlink:href=\"#DejaVuSans-49\"/>\r\n       <use x=\"63.623047\" xlink:href=\"#DejaVuSans-46\"/>\r\n       <use x=\"95.410156\" xlink:href=\"#DejaVuSans-50\"/>\r\n       <use x=\"159.033203\" xlink:href=\"#DejaVuSans-53\"/>\r\n      </g>\r\n     </g>\r\n    </g>\r\n    <g id=\"ytick_9\">\r\n     <g id=\"line2d_15\">\r\n      <g>\r\n       <use style=\"stroke:#000000;stroke-width:0.8;\" x=\"44.845313\" xlink:href=\"#m152c889d05\" y=\"17.083636\"/>\r\n      </g>\r\n     </g>\r\n     <g id=\"text_15\">\r\n      <!-- 1.50 -->\r\n      <g transform=\"translate(15.579688 20.882855)scale(0.1 -0.1)\">\r\n       <use xlink:href=\"#DejaVuSans-49\"/>\r\n       <use x=\"63.623047\" xlink:href=\"#DejaVuSans-46\"/>\r\n       <use x=\"95.410156\" xlink:href=\"#DejaVuSans-53\"/>\r\n       <use x=\"159.033203\" xlink:href=\"#DejaVuSans-48\"/>\r\n      </g>\r\n     </g>\r\n    </g>\r\n   </g>\r\n   <g id=\"line2d_16\">\r\n    <path clip-path=\"url(#pc50825c04f)\" d=\"M 60.063494 17.083636 \r\nL 63.137874 19.080331 \r\nL 66.212255 21.077025 \r\nL 69.286635 23.073719 \r\nL 72.361015 25.070413 \r\nL 75.435395 27.067107 \r\nL 78.509775 29.063802 \r\nL 81.584155 31.060496 \r\nL 84.658536 33.05719 \r\nL 87.732916 35.053884 \r\nL 90.807296 37.050579 \r\nL 93.881676 39.047273 \r\nL 96.956056 41.043967 \r\nL 100.030436 43.040661 \r\nL 103.104817 45.037355 \r\nL 106.179197 47.03405 \r\nL 109.253577 49.030744 \r\nL 112.327957 51.027438 \r\nL 115.402337 53.024132 \r\nL 118.476717 55.020826 \r\nL 121.551098 57.017521 \r\nL 124.625478 59.014215 \r\nL 127.699858 61.010909 \r\nL 130.774238 63.007603 \r\nL 133.848618 65.004298 \r\nL 136.922998 67.000992 \r\nL 139.997379 68.997686 \r\nL 143.071759 70.99438 \r\nL 146.146139 72.991074 \r\nL 149.220519 74.987769 \r\nL 152.294899 76.984463 \r\nL 155.369279 78.981157 \r\nL 158.44366 80.977851 \r\nL 161.51804 82.974545 \r\nL 164.59242 84.97124 \r\nL 167.6668 86.967934 \r\nL 170.74118 88.964628 \r\nL 173.81556 90.961322 \r\nL 176.889941 92.958017 \r\nL 179.964321 94.954711 \r\nL 183.038701 96.951405 \r\nL 186.113081 98.948099 \r\nL 189.187461 100.944793 \r\nL 192.261841 102.941488 \r\nL 195.336222 104.938182 \r\nL 198.410602 106.934876 \r\nL 201.484982 108.93157 \r\nL 204.559362 110.928264 \r\nL 207.633742 112.924959 \r\nL 210.708122 114.921653 \r\nL 213.782503 116.918347 \r\nL 216.856883 118.915041 \r\nL 219.931263 120.911736 \r\nL 223.005643 122.90843 \r\nL 226.080023 124.905124 \r\nL 229.154403 126.901818 \r\nL 232.228784 128.898512 \r\nL 235.303164 130.895207 \r\nL 238.377544 132.891901 \r\nL 241.451924 134.888595 \r\nL 244.526304 136.885289 \r\nL 247.600684 138.881983 \r\nL 250.675065 140.878678 \r\nL 253.749445 142.875372 \r\nL 256.823825 144.872066 \r\nL 259.898205 146.86876 \r\nL 262.972585 148.865455 \r\nL 266.046965 150.862149 \r\nL 269.121346 152.858843 \r\nL 272.195726 154.855537 \r\nL 275.270106 156.852231 \r\nL 278.344486 158.848926 \r\nL 281.418866 160.84562 \r\nL 284.493246 162.842314 \r\nL 287.567627 164.839008 \r\nL 290.642007 166.835702 \r\nL 293.716387 168.832397 \r\nL 296.790767 170.829091 \r\nL 299.865147 172.825785 \r\nL 302.939527 174.822479 \r\nL 306.013908 176.819174 \r\nL 309.088288 178.815868 \r\nL 312.162668 180.812562 \r\nL 315.237048 182.809256 \r\nL 318.311428 184.80595 \r\nL 321.385808 186.802645 \r\nL 324.460189 188.799339 \r\nL 327.534569 190.796033 \r\nL 330.608949 192.792727 \r\nL 333.683329 194.789421 \r\nL 336.757709 196.786116 \r\nL 339.832089 198.78281 \r\nL 342.90647 200.779504 \r\nL 345.98085 202.776198 \r\nL 349.05523 204.772893 \r\nL 352.12961 206.769587 \r\nL 355.20399 208.766281 \r\nL 358.27837 210.762975 \r\nL 361.352751 212.759669 \r\nL 364.427131 214.756364 \r\n\" style=\"fill:none;stroke:#1f77b4;stroke-linecap:square;stroke-width:1.5;\"/>\r\n   </g>\r\n   <g id=\"patch_3\">\r\n    <path d=\"M 44.845313 224.64 \r\nL 44.845313 7.2 \r\n\" style=\"fill:none;stroke:#000000;stroke-linecap:square;stroke-linejoin:miter;stroke-width:0.8;\"/>\r\n   </g>\r\n   <g id=\"patch_4\">\r\n    <path d=\"M 379.645313 224.64 \r\nL 379.645313 7.2 \r\n\" style=\"fill:none;stroke:#000000;stroke-linecap:square;stroke-linejoin:miter;stroke-width:0.8;\"/>\r\n   </g>\r\n   <g id=\"patch_5\">\r\n    <path d=\"M 44.845313 224.64 \r\nL 379.645313 224.64 \r\n\" style=\"fill:none;stroke:#000000;stroke-linecap:square;stroke-linejoin:miter;stroke-width:0.8;\"/>\r\n   </g>\r\n   <g id=\"patch_6\">\r\n    <path d=\"M 44.845313 7.2 \r\nL 379.645313 7.2 \r\n\" style=\"fill:none;stroke:#000000;stroke-linecap:square;stroke-linejoin:miter;stroke-width:0.8;\"/>\r\n   </g>\r\n  </g>\r\n </g>\r\n <defs>\r\n  <clipPath id=\"pc50825c04f\">\r\n   <rect height=\"217.44\" width=\"334.8\" x=\"44.845313\" y=\"7.2\"/>\r\n  </clipPath>\r\n </defs>\r\n</svg>\r\n",
      "image/png": "[encoded data removed]"
     },
     "metadata": {
      "needs_background": "light"
     }
    }
   ],
   "source": [
    "plt.scatter(X1[Y],X2[Y],c='r')\n",
    "plt.scatter(X1[Y_0],X2[Y_0],c='g')\n",
    "\n",
    "x = np.linspace(0,1,100)\n",
    "y = 1.5-2*x\n",
    "plt.plot(x,y)\n",
    "plt.show()"
   ]
  },
  {
   "cell_type": "code",
   "execution_count": null,
   "metadata": {},
   "outputs": [],
   "source": []
  },
  {
   "cell_type": "code",
   "execution_count": 119,
   "metadata": {},
   "outputs": [
    {
     "output_type": "execute_result",
     "data": {
      "text/plain": [
       "(array([[0.70565007, 0.57158707],\n",
       "        [0.05284612, 0.89150826],\n",
       "        [0.55576153, 0.82309079],\n",
       "        [0.4003751 , 0.22729454],\n",
       "        [0.82977445, 0.00314861],\n",
       "        [0.73011737, 0.14728212],\n",
       "        [0.42752044, 0.41751695],\n",
       "        [0.92183939, 0.43542424],\n",
       "        [0.84306864, 0.92382423],\n",
       "        [0.63818082, 0.04466032]]),\n",
       " array([0., 0.]),\n",
       " array([ 1, -1,  1, -1,  1,  1, -1,  1,  1, -1]))"
      ]
     },
     "metadata": {},
     "execution_count": 119
    }
   ],
   "source": [
    "w = np.zeros(D.shape[1])\n",
    "y = Y.astype(int)\n",
    "y = y*2-1\n",
    "D,w,y"
   ]
  },
  {
   "source": [
    "## 准备模型"
   ],
   "cell_type": "markdown",
   "metadata": {}
  },
  {
   "cell_type": "code",
   "execution_count": 120,
   "metadata": {},
   "outputs": [],
   "source": [
    "\n",
    "def ganzhiqi(x):\n",
    "    y = np.dot(w,x)\n",
    "    # print(y)\n",
    "    if y>0:\n",
    "        return 1\n",
    "    else:\n",
    "        return -1\n",
    "    \n"
   ]
  },
  {
   "cell_type": "code",
   "execution_count": 121,
   "metadata": {},
   "outputs": [
    {
     "output_type": "execute_result",
     "data": {
      "text/plain": [
       "array([[0.70565007, 0.57158707],\n",
       "       [0.05284612, 0.89150826],\n",
       "       [0.55576153, 0.82309079],\n",
       "       [0.4003751 , 0.22729454],\n",
       "       [0.82977445, 0.00314861],\n",
       "       [0.73011737, 0.14728212],\n",
       "       [0.42752044, 0.41751695],\n",
       "       [0.92183939, 0.43542424],\n",
       "       [0.84306864, 0.92382423],\n",
       "       [0.63818082, 0.04466032]])"
      ]
     },
     "metadata": {},
     "execution_count": 121
    }
   ],
   "source": [
    "ganzhiqi(np.array([1,2]))\n",
    "D"
   ]
  },
  {
   "cell_type": "code",
   "execution_count": 128,
   "metadata": {},
   "outputs": [
    {
     "output_type": "stream",
     "name": "stdout",
     "text": [
      "0 [0.70565007 0.57158707] 1\n1 [0.05284612 0.89150826] -1\n2 [0.55576153 0.82309079] 1\n3 [0.4003751  0.22729454] -1\n更新: 1 [-0.10286689 -0.24496503]\n4 [0.82977445 0.00314861] 1\n更新: 2 [ 0.72690757 -0.24181642]\n5 [0.73011737 0.14728212] 1\n6 [0.42752044 0.41751695] -1\n更新: 3 [ 0.29938713 -0.65933337]\n7 [0.92183939 0.43542424] 1\n更新: 4 [ 1.22122652 -0.22390913]\n8 [0.84306864 0.92382423] 1\n9 [0.63818082 0.04466032] -1\n更新: 5 [ 0.5830457  -0.26856945]\n0 [0.70565007 0.57158707] 1\n1 [0.05284612 0.89150826] -1\n2 [0.55576153 0.82309079] 1\n3 [0.4003751  0.22729454] -1\n更新: 6 [ 0.1826706  -0.49586399]\n4 [0.82977445 0.00314861] 1\n5 [0.73011737 0.14728212] 1\n6 [0.42752044 0.41751695] -1\n7 [0.92183939 0.43542424] 1\n更新: 7 [ 1.10450999 -0.06043975]\n8 [0.84306864 0.92382423] 1\n9 [0.63818082 0.04466032] -1\n更新: 8 [ 0.46632917 -0.10510007]\n0 [0.70565007 0.57158707] 1\n1 [0.05284612 0.89150826] -1\n2 [0.55576153 0.82309079] 1\n3 [0.4003751  0.22729454] -1\n更新: 9 [ 0.06595407 -0.33239461]\n4 [0.82977445 0.00314861] 1\n5 [0.73011737 0.14728212] 1\n更新: 10 [ 0.79607144 -0.18511249]\n6 [0.42752044 0.41751695] -1\n更新: 11 [ 0.368551   -0.60262944]\n7 [0.92183939 0.43542424] 1\n8 [0.84306864 0.92382423] 1\n更新: 12 [1.21161964 0.32119479]\n9 [0.63818082 0.04466032] -1\n更新: 13 [0.57343882 0.27653447]\n0 [0.70565007 0.57158707] 1\n1 [0.05284612 0.89150826] -1\n更新: 14 [ 0.52059269 -0.61497379]\n2 [0.55576153 0.82309079] 1\n更新: 15 [1.07635423 0.208117  ]\n3 [0.4003751  0.22729454] -1\n更新: 16 [ 0.67597913 -0.01917754]\n4 [0.82977445 0.00314861] 1\n5 [0.73011737 0.14728212] 1\n6 [0.42752044 0.41751695] -1\n更新: 17 [ 0.24845869 -0.4366945 ]\n7 [0.92183939 0.43542424] 1\n8 [0.84306864 0.92382423] 1\n更新: 18 [1.09152733 0.48712973]\n9 [0.63818082 0.04466032] -1\n更新: 19 [0.45334651 0.44246942]\n0 [0.70565007 0.57158707] 1\n1 [0.05284612 0.89150826] -1\n更新: 20 [ 0.40050039 -0.44903884]\n2 [0.55576153 0.82309079] 1\n更新: 21 [0.95626192 0.37405195]\n3 [0.4003751  0.22729454] -1\n更新: 22 [0.55588682 0.1467574 ]\n4 [0.82977445 0.00314861] 1\n5 [0.73011737 0.14728212] 1\n6 [0.42752044 0.41751695] -1\n更新: 23 [ 0.12836638 -0.27075955]\n7 [0.92183939 0.43542424] 1\n8 [0.84306864 0.92382423] 1\n更新: 24 [0.97143502 0.65306468]\n9 [0.63818082 0.04466032] -1\n更新: 25 [0.3332542  0.60840437]\n0 [0.70565007 0.57158707] 1\n1 [0.05284612 0.89150826] -1\n更新: 26 [ 0.28040808 -0.28310389]\n2 [0.55576153 0.82309079] 1\n更新: 27 [0.83616961 0.5399869 ]\n3 [0.4003751  0.22729454] -1\n更新: 28 [0.43579452 0.31269235]\n4 [0.82977445 0.00314861] 1\n5 [0.73011737 0.14728212] 1\n6 [0.42752044 0.41751695] -1\n更新: 29 [ 0.00827408 -0.1048246 ]\n7 [0.92183939 0.43542424] 1\n更新: 30 [0.93011346 0.33059963]\n8 [0.84306864 0.92382423] 1\n9 [0.63818082 0.04466032] -1\n更新: 31 [0.29193264 0.28593932]\n0 [0.70565007 0.57158707] 1\n1 [0.05284612 0.89150826] -1\n更新: 32 [ 0.23908652 -0.60556894]\n2 [0.55576153 0.82309079] 1\n更新: 33 [0.79484805 0.21752185]\n3 [0.4003751  0.22729454] -1\n更新: 34 [ 0.39447296 -0.00977269]\n4 [0.82977445 0.00314861] 1\n5 [0.73011737 0.14728212] 1\n6 [0.42752044 0.41751695] -1\n更新: 35 [-0.03304748 -0.42728965]\n7 [0.92183939 0.43542424] 1\n更新: 36 [0.88879191 0.00813459]\n8 [0.84306864 0.92382423] 1\n9 [0.63818082 0.04466032] -1\n更新: 37 [ 0.25061109 -0.03652573]\n0 [0.70565007 0.57158707] 1\n1 [0.05284612 0.89150826] -1\n2 [0.55576153 0.82309079] 1\n3 [0.4003751  0.22729454] -1\n更新: 38 [-0.14976401 -0.26382027]\n4 [0.82977445 0.00314861] 1\n更新: 39 [ 0.68001044 -0.26067166]\n5 [0.73011737 0.14728212] 1\n6 [0.42752044 0.41751695] -1\n更新: 40 [ 0.25249    -0.67818861]\n7 [0.92183939 0.43542424] 1\n更新: 41 [ 1.17432939 -0.24276437]\n8 [0.84306864 0.92382423] 1\n9 [0.63818082 0.04466032] -1\n更新: 42 [ 0.53614857 -0.28742469]\n0 [0.70565007 0.57158707] 1\n1 [0.05284612 0.89150826] -1\n2 [0.55576153 0.82309079] 1\n3 [0.4003751  0.22729454] -1\n更新: 43 [ 0.13577348 -0.51471923]\n4 [0.82977445 0.00314861] 1\n5 [0.73011737 0.14728212] 1\n6 [0.42752044 0.41751695] -1\n7 [0.92183939 0.43542424] 1\n更新: 44 [ 1.05761287 -0.079295  ]\n8 [0.84306864 0.92382423] 1\n9 [0.63818082 0.04466032] -1\n更新: 45 [ 0.41943205 -0.12395531]\n0 [0.70565007 0.57158707] 1\n1 [0.05284612 0.89150826] -1\n2 [0.55576153 0.82309079] 1\n3 [0.4003751  0.22729454] -1\n更新: 46 [ 0.01905695 -0.35124985]\n4 [0.82977445 0.00314861] 1\n5 [0.73011737 0.14728212] 1\n更新: 47 [ 0.74917432 -0.20396773]\n6 [0.42752044 0.41751695] -1\n更新: 48 [ 0.32165388 -0.62148469]\n7 [0.92183939 0.43542424] 1\n8 [0.84306864 0.92382423] 1\n更新: 49 [1.16472251 0.30233954]\n9 [0.63818082 0.04466032] -1\n更新: 50 [0.52654169 0.25767923]\n0 [0.70565007 0.57158707] 1\n1 [0.05284612 0.89150826] -1\n更新: 51 [ 0.47369557 -0.63382903]\n2 [0.55576153 0.82309079] 1\n更新: 52 [1.0294571  0.18926176]\n3 [0.4003751  0.22729454] -1\n更新: 53 [ 0.62908201 -0.03803279]\n4 [0.82977445 0.00314861] 1\n5 [0.73011737 0.14728212] 1\n6 [0.42752044 0.41751695] -1\n更新: 54 [ 0.20156157 -0.45554974]\n7 [0.92183939 0.43542424] 1\n更新: 55 [ 1.12340096 -0.0201255 ]\n8 [0.84306864 0.92382423] 1\n9 [0.63818082 0.04466032] -1\n更新: 56 [ 0.48522014 -0.06478582]\n0 [0.70565007 0.57158707] 1\n1 [0.05284612 0.89150826] -1\n2 [0.55576153 0.82309079] 1\n3 [0.4003751  0.22729454] -1\n更新: 57 [ 0.08484504 -0.29208036]\n4 [0.82977445 0.00314861] 1\n5 [0.73011737 0.14728212] 1\n6 [0.42752044 0.41751695] -1\n7 [0.92183939 0.43542424] 1\n更新: 58 [1.00668443 0.14334388]\n8 [0.84306864 0.92382423] 1\n9 [0.63818082 0.04466032] -1\n更新: 59 [0.36850361 0.09868356]\n0 [0.70565007 0.57158707] 1\n1 [0.05284612 0.89150826] -1\n更新: 60 [ 0.31565749 -0.7928247 ]\n2 [0.55576153 0.82309079] 1\n更新: 61 [0.87141902 0.03026609]\n3 [0.4003751  0.22729454] -1\n更新: 62 [ 0.47104392 -0.19702845]\n4 [0.82977445 0.00314861] 1\n5 [0.73011737 0.14728212] 1\n6 [0.42752044 0.41751695] -1\n更新: 63 [ 0.04352348 -0.61454541]\n7 [0.92183939 0.43542424] 1\n更新: 64 [ 0.96536287 -0.17912117]\n8 [0.84306864 0.92382423] 1\n9 [0.63818082 0.04466032] -1\n更新: 65 [ 0.32718205 -0.22378148]\n0 [0.70565007 0.57158707] 1\n1 [0.05284612 0.89150826] -1\n2 [0.55576153 0.82309079] 1\n更新: 66 [0.88294358 0.59930931]\n3 [0.4003751  0.22729454] -1\n更新: 67 [0.48256849 0.37201476]\n4 [0.82977445 0.00314861] 1\n5 [0.73011737 0.14728212] 1\n6 [0.42752044 0.41751695] -1\n更新: 68 [ 0.05504805 -0.04550219]\n7 [0.92183939 0.43542424] 1\n8 [0.84306864 0.92382423] 1\n9 [0.63818082 0.04466032] -1\n更新: 69 [-0.58313277 -0.09016251]\n0 [0.70565007 0.57158707] 1\n更新: 70 [0.1225173  0.48142457]\n1 [0.05284612 0.89150826] -1\n更新: 71 [ 0.06967118 -0.41008369]\n2 [0.55576153 0.82309079] 1\n更新: 72 [0.62543271 0.4130071 ]\n3 [0.4003751  0.22729454] -1\n更新: 73 [0.22505762 0.18571255]\n4 [0.82977445 0.00314861] 1\n5 [0.73011737 0.14728212] 1\n6 [0.42752044 0.41751695] -1\n更新: 74 [-0.20246282 -0.2318044 ]\n7 [0.92183939 0.43542424] 1\n更新: 75 [0.71937656 0.20361984]\n8 [0.84306864 0.92382423] 1\n9 [0.63818082 0.04466032] -1\n更新: 76 [0.08119574 0.15895952]\n0 [0.70565007 0.57158707] 1\n1 [0.05284612 0.89150826] -1\n更新: 77 [ 0.02834962 -0.73254874]\n2 [0.55576153 0.82309079] 1\n更新: 78 [0.58411115 0.09054205]\n3 [0.4003751  0.22729454] -1\n更新: 79 [ 0.18373606 -0.13675249]\n4 [0.82977445 0.00314861] 1\n5 [0.73011737 0.14728212] 1\n6 [0.42752044 0.41751695] -1\n更新: 80 [-0.24378438 -0.55426945]\n7 [0.92183939 0.43542424] 1\n更新: 81 [ 0.67805501 -0.11884521]\n8 [0.84306864 0.92382423] 1\n9 [0.63818082 0.04466032] -1\n更新: 82 [ 0.03987419 -0.16350552]\n0 [0.70565007 0.57158707] 1\n更新: 83 [0.74552426 0.40808155]\n1 [0.05284612 0.89150826] -1\n更新: 84 [ 0.69267814 -0.48342671]\n2 [0.55576153 0.82309079] 1\n更新: 85 [1.24843967 0.33966408]\n3 [0.4003751  0.22729454] -1\n更新: 86 [0.84806457 0.11236954]\n4 [0.82977445 0.00314861] 1\n5 [0.73011737 0.14728212] 1\n6 [0.42752044 0.41751695] -1\n更新: 87 [ 0.42054413 -0.30514742]\n7 [0.92183939 0.43542424] 1\n8 [0.84306864 0.92382423] 1\n9 [0.63818082 0.04466032] -1\n更新: 88 [-0.21763669 -0.34980773]\n0 [0.70565007 0.57158707] 1\n更新: 89 [0.48801339 0.22177934]\n1 [0.05284612 0.89150826] -1\n更新: 90 [ 0.43516727 -0.66972892]\n2 [0.55576153 0.82309079] 1\n更新: 91 [0.9909288  0.15336187]\n3 [0.4003751  0.22729454] -1\n更新: 92 [ 0.5905537  -0.07393267]\n4 [0.82977445 0.00314861] 1\n5 [0.73011737 0.14728212] 1\n6 [0.42752044 0.41751695] -1\n更新: 93 [ 0.16303326 -0.49144962]\n7 [0.92183939 0.43542424] 1\n更新: 94 [ 1.08487265 -0.05602539]\n8 [0.84306864 0.92382423] 1\n9 [0.63818082 0.04466032] -1\n更新: 95 [ 0.44669183 -0.1006857 ]\n0 [0.70565007 0.57158707] 1\n1 [0.05284612 0.89150826] -1\n2 [0.55576153 0.82309079] 1\n3 [0.4003751  0.22729454] -1\n更新: 96 [ 0.04631673 -0.32798025]\n4 [0.82977445 0.00314861] 1\n5 [0.73011737 0.14728212] 1\n更新: 97 [ 0.7764341  -0.18069812]\n6 [0.42752044 0.41751695] -1\n更新: 98 [ 0.34891366 -0.59821508]\n7 [0.92183939 0.43542424] 1\n8 [0.84306864 0.92382423] 1\n更新: 99 [1.1919823  0.32560915]\n9 [0.63818082 0.04466032] -1\n更新: 100 [0.55380148 0.28094884]\n0 [0.70565007 0.57158707] 1\n1 [0.05284612 0.89150826] -1\n更新: 101 [ 0.50095536 -0.61055942]\n2 [0.55576153 0.82309079] 1\n更新: 102 [1.05671689 0.21253137]\n3 [0.4003751  0.22729454] -1\n更新: 103 [ 0.65634179 -0.01476318]\n4 [0.82977445 0.00314861] 1\n5 [0.73011737 0.14728212] 1\n6 [0.42752044 0.41751695] -1\n更新: 104 [ 0.22882135 -0.43228013]\n7 [0.92183939 0.43542424] 1\n8 [0.84306864 0.92382423] 1\n更新: 105 [1.07188999 0.4915441 ]\n9 [0.63818082 0.04466032] -1\n更新: 106 [0.43370917 0.44688378]\n0 [0.70565007 0.57158707] 1\n1 [0.05284612 0.89150826] -1\n更新: 107 [ 0.38086305 -0.44462447]\n2 [0.55576153 0.82309079] 1\n更新: 108 [0.93662458 0.37846631]\n3 [0.4003751  0.22729454] -1\n更新: 109 [0.53624948 0.15117177]\n4 [0.82977445 0.00314861] 1\n5 [0.73011737 0.14728212] 1\n6 [0.42752044 0.41751695] -1\n更新: 110 [ 0.10872904 -0.26634518]\n7 [0.92183939 0.43542424] 1\n更新: 111 [1.03056843 0.16907905]\n8 [0.84306864 0.92382423] 1\n9 [0.63818082 0.04466032] -1\n更新: 112 [0.39238761 0.12441874]\n0 [0.70565007 0.57158707] 1\n1 [0.05284612 0.89150826] -1\n更新: 113 [ 0.33954149 -0.76708952]\n2 [0.55576153 0.82309079] 1\n更新: 114 [0.89530302 0.05600127]\n3 [0.4003751  0.22729454] -1\n更新: 115 [ 0.49492793 -0.17129327]\n4 [0.82977445 0.00314861] 1\n5 [0.73011737 0.14728212] 1\n6 [0.42752044 0.41751695] -1\n更新: 116 [ 0.06740749 -0.58881023]\n7 [0.92183939 0.43542424] 1\n更新: 117 [ 0.98924688 -0.15338599]\n8 [0.84306864 0.92382423] 1\n9 [0.63818082 0.04466032] -1\n更新: 118 [ 0.35106606 -0.19804631]\n0 [0.70565007 0.57158707] 1\n1 [0.05284612 0.89150826] -1\n2 [0.55576153 0.82309079] 1\n3 [0.4003751  0.22729454] -1\n更新: 119 [-0.04930904 -0.42534085]\n4 [0.82977445 0.00314861] 1\n更新: 120 [ 0.78046541 -0.42219224]\n5 [0.73011737 0.14728212] 1\n6 [0.42752044 0.41751695] -1\n更新: 121 [ 0.35294497 -0.83970919]\n7 [0.92183939 0.43542424] 1\n更新: 122 [ 1.27478436 -0.40428495]\n8 [0.84306864 0.92382423] 1\n9 [0.63818082 0.04466032] -1\n更新: 123 [ 0.63660354 -0.44894527]\n0 [0.70565007 0.57158707] 1\n1 [0.05284612 0.89150826] -1\n2 [0.55576153 0.82309079] 1\n更新: 124 [1.19236507 0.37414552]\n3 [0.4003751  0.22729454] -1\n更新: 125 [0.79198998 0.14685098]\n4 [0.82977445 0.00314861] 1\n5 [0.73011737 0.14728212] 1\n6 [0.42752044 0.41751695] -1\n更新: 126 [ 0.36446954 -0.27066598]\n7 [0.92183939 0.43542424] 1\n8 [0.84306864 0.92382423] 1\n9 [0.63818082 0.04466032] -1\n更新: 127 [-0.27371128 -0.31532629]\n0 [0.70565007 0.57158707] 1\n更新: 128 [0.43193879 0.25626078]\n1 [0.05284612 0.89150826] -1\n更新: 129 [ 0.37909267 -0.63524748]\n2 [0.55576153 0.82309079] 1\n更新: 130 [0.9348542  0.18784331]\n3 [0.4003751  0.22729454] -1\n更新: 131 [ 0.5344791  -0.03945123]\n4 [0.82977445 0.00314861] 1\n5 [0.73011737 0.14728212] 1\n6 [0.42752044 0.41751695] -1\n更新: 132 [ 0.10695866 -0.45696819]\n7 [0.92183939 0.43542424] 1\n更新: 133 [ 1.02879805 -0.02154395]\n8 [0.84306864 0.92382423] 1\n9 [0.63818082 0.04466032] -1\n更新: 134 [ 0.39061723 -0.06620426]\nlast: [ 0.39061723 -0.06620426]\n"
     ]
    }
   ],
   "source": [
    "T = 250\n",
    "t = 0 \n",
    "k = 0\n",
    "N = len(D)\n",
    "# for n in range(N):\n",
    "while(t<T):\n",
    "    for i in range(N):\n",
    "        xi = D[i]\n",
    "        yi = y[i]\n",
    "        print(i,xi,yi)\n",
    "        if yi*ganzhiqi(xi)<0:\n",
    "            w = w + yi * xi\n",
    "            k = k + 1\n",
    "            print('更新:',k,w)\n",
    "        t = t + 1\n",
    "\n",
    "print(\"last:\",w)\n",
    "    # if \n",
    "    # if w*(y*x)<=0:\n",
    "    #     w = w + y * x\n",
    "    # t = t +1\n",
    "    # print(t,w)\n",
    "    # if t==T:\n",
    "    #     break\n",
    "    \n",
    "\n",
    "\n"
   ]
  },
  {
   "cell_type": "code",
   "execution_count": null,
   "metadata": {},
   "outputs": [],
   "source": []
  }
 ]
}